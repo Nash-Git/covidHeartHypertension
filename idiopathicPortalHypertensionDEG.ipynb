{
 "cells": [
  {
   "cell_type": "code",
   "execution_count": 1,
   "metadata": {},
   "outputs": [],
   "source": [
    "import numpy as np\n",
    "import pandas as pd"
   ]
  },
  {
   "cell_type": "code",
   "execution_count": 2,
   "metadata": {},
   "outputs": [],
   "source": [
    "df = pd.read_excel('idiopathicPortalHypertensionGSE69601.xlsx')"
   ]
  },
  {
   "cell_type": "code",
   "execution_count": 3,
   "metadata": {},
   "outputs": [
    {
     "data": {
      "text/html": [
       "<div>\n",
       "<style scoped>\n",
       "    .dataframe tbody tr th:only-of-type {\n",
       "        vertical-align: middle;\n",
       "    }\n",
       "\n",
       "    .dataframe tbody tr th {\n",
       "        vertical-align: top;\n",
       "    }\n",
       "\n",
       "    .dataframe thead th {\n",
       "        text-align: right;\n",
       "    }\n",
       "</style>\n",
       "<table border=\"1\" class=\"dataframe\">\n",
       "  <thead>\n",
       "    <tr style=\"text-align: right;\">\n",
       "      <th></th>\n",
       "      <th>ID</th>\n",
       "      <th>adj.P.Val</th>\n",
       "      <th>P.Value</th>\n",
       "      <th>t</th>\n",
       "      <th>B</th>\n",
       "      <th>logFC</th>\n",
       "      <th>Gene.symbol</th>\n",
       "      <th>Gene.title</th>\n",
       "    </tr>\n",
       "  </thead>\n",
       "  <tbody>\n",
       "    <tr>\n",
       "      <td>0</td>\n",
       "      <td>8149116</td>\n",
       "      <td>0.888</td>\n",
       "      <td>0.000168</td>\n",
       "      <td>7.24</td>\n",
       "      <td>-4.20</td>\n",
       "      <td>2.94</td>\n",
       "      <td>DEFA1B///DEFA3///DEFA1</td>\n",
       "      <td>defensin alpha 1B///defensin alpha 3///defensi...</td>\n",
       "    </tr>\n",
       "    <tr>\n",
       "      <td>1</td>\n",
       "      <td>8149126</td>\n",
       "      <td>0.888</td>\n",
       "      <td>0.000168</td>\n",
       "      <td>7.24</td>\n",
       "      <td>-4.20</td>\n",
       "      <td>2.94</td>\n",
       "      <td>DEFA1B///DEFA3///DEFA1</td>\n",
       "      <td>defensin alpha 1B///defensin alpha 3///defensi...</td>\n",
       "    </tr>\n",
       "    <tr>\n",
       "      <td>2</td>\n",
       "      <td>8149137</td>\n",
       "      <td>0.888</td>\n",
       "      <td>0.000168</td>\n",
       "      <td>7.24</td>\n",
       "      <td>-4.20</td>\n",
       "      <td>2.94</td>\n",
       "      <td>DEFA1B///DEFA3///DEFA1</td>\n",
       "      <td>defensin alpha 1B///defensin alpha 3///defensi...</td>\n",
       "    </tr>\n",
       "    <tr>\n",
       "      <td>3</td>\n",
       "      <td>7991562</td>\n",
       "      <td>0.888</td>\n",
       "      <td>0.000295</td>\n",
       "      <td>6.62</td>\n",
       "      <td>-4.22</td>\n",
       "      <td>1.24</td>\n",
       "      <td>PRKXP1</td>\n",
       "      <td>protein kinase, X-linked, pseudogene 1</td>\n",
       "    </tr>\n",
       "    <tr>\n",
       "      <td>4</td>\n",
       "      <td>7930915</td>\n",
       "      <td>0.888</td>\n",
       "      <td>0.000465</td>\n",
       "      <td>6.14</td>\n",
       "      <td>-4.23</td>\n",
       "      <td>2.12</td>\n",
       "      <td>NaN</td>\n",
       "      <td>NaN</td>\n",
       "    </tr>\n",
       "  </tbody>\n",
       "</table>\n",
       "</div>"
      ],
      "text/plain": [
       "        ID  adj.P.Val   P.Value     t     B  logFC             Gene.symbol  \\\n",
       "0  8149116      0.888  0.000168  7.24 -4.20   2.94  DEFA1B///DEFA3///DEFA1   \n",
       "1  8149126      0.888  0.000168  7.24 -4.20   2.94  DEFA1B///DEFA3///DEFA1   \n",
       "2  8149137      0.888  0.000168  7.24 -4.20   2.94  DEFA1B///DEFA3///DEFA1   \n",
       "3  7991562      0.888  0.000295  6.62 -4.22   1.24                  PRKXP1   \n",
       "4  7930915      0.888  0.000465  6.14 -4.23   2.12                     NaN   \n",
       "\n",
       "                                          Gene.title  \n",
       "0  defensin alpha 1B///defensin alpha 3///defensi...  \n",
       "1  defensin alpha 1B///defensin alpha 3///defensi...  \n",
       "2  defensin alpha 1B///defensin alpha 3///defensi...  \n",
       "3             protein kinase, X-linked, pseudogene 1  \n",
       "4                                                NaN  "
      ]
     },
     "execution_count": 3,
     "metadata": {},
     "output_type": "execute_result"
    }
   ],
   "source": [
    "df.head()"
   ]
  },
  {
   "cell_type": "code",
   "execution_count": 4,
   "metadata": {},
   "outputs": [
    {
     "data": {
      "text/plain": [
       "(29096, 8)"
      ]
     },
     "execution_count": 4,
     "metadata": {},
     "output_type": "execute_result"
    }
   ],
   "source": [
    "df.shape"
   ]
  },
  {
   "cell_type": "markdown",
   "metadata": {},
   "source": [
    "### Checking and removing null values: where Gene.symbol is null"
   ]
  },
  {
   "cell_type": "code",
   "execution_count": 5,
   "metadata": {},
   "outputs": [
    {
     "data": {
      "text/plain": [
       "ID                0\n",
       "adj.P.Val         0\n",
       "P.Value           0\n",
       "t                 0\n",
       "B                 0\n",
       "logFC             0\n",
       "Gene.symbol    6901\n",
       "Gene.title     6901\n",
       "dtype: int64"
      ]
     },
     "execution_count": 5,
     "metadata": {},
     "output_type": "execute_result"
    }
   ],
   "source": [
    "df.isna().sum()"
   ]
  },
  {
   "cell_type": "code",
   "execution_count": 6,
   "metadata": {},
   "outputs": [],
   "source": [
    "df.dropna(inplace=True,axis=0,subset=['Gene.symbol'])"
   ]
  },
  {
   "cell_type": "code",
   "execution_count": 7,
   "metadata": {},
   "outputs": [
    {
     "data": {
      "text/plain": [
       "(22195, 8)"
      ]
     },
     "execution_count": 7,
     "metadata": {},
     "output_type": "execute_result"
    }
   ],
   "source": [
    "df.shape"
   ]
  },
  {
   "cell_type": "code",
   "execution_count": 8,
   "metadata": {},
   "outputs": [
    {
     "data": {
      "text/html": [
       "<div>\n",
       "<style scoped>\n",
       "    .dataframe tbody tr th:only-of-type {\n",
       "        vertical-align: middle;\n",
       "    }\n",
       "\n",
       "    .dataframe tbody tr th {\n",
       "        vertical-align: top;\n",
       "    }\n",
       "\n",
       "    .dataframe thead th {\n",
       "        text-align: right;\n",
       "    }\n",
       "</style>\n",
       "<table border=\"1\" class=\"dataframe\">\n",
       "  <thead>\n",
       "    <tr style=\"text-align: right;\">\n",
       "      <th></th>\n",
       "      <th>ID</th>\n",
       "      <th>adj.P.Val</th>\n",
       "      <th>P.Value</th>\n",
       "      <th>t</th>\n",
       "      <th>B</th>\n",
       "      <th>logFC</th>\n",
       "      <th>Gene.symbol</th>\n",
       "      <th>Gene.title</th>\n",
       "    </tr>\n",
       "  </thead>\n",
       "  <tbody>\n",
       "    <tr>\n",
       "      <td>0</td>\n",
       "      <td>8149116</td>\n",
       "      <td>0.888</td>\n",
       "      <td>0.000168</td>\n",
       "      <td>7.24</td>\n",
       "      <td>-4.20</td>\n",
       "      <td>2.94</td>\n",
       "      <td>DEFA1B///DEFA3///DEFA1</td>\n",
       "      <td>defensin alpha 1B///defensin alpha 3///defensi...</td>\n",
       "    </tr>\n",
       "    <tr>\n",
       "      <td>1</td>\n",
       "      <td>8149126</td>\n",
       "      <td>0.888</td>\n",
       "      <td>0.000168</td>\n",
       "      <td>7.24</td>\n",
       "      <td>-4.20</td>\n",
       "      <td>2.94</td>\n",
       "      <td>DEFA1B///DEFA3///DEFA1</td>\n",
       "      <td>defensin alpha 1B///defensin alpha 3///defensi...</td>\n",
       "    </tr>\n",
       "    <tr>\n",
       "      <td>2</td>\n",
       "      <td>8149137</td>\n",
       "      <td>0.888</td>\n",
       "      <td>0.000168</td>\n",
       "      <td>7.24</td>\n",
       "      <td>-4.20</td>\n",
       "      <td>2.94</td>\n",
       "      <td>DEFA1B///DEFA3///DEFA1</td>\n",
       "      <td>defensin alpha 1B///defensin alpha 3///defensi...</td>\n",
       "    </tr>\n",
       "    <tr>\n",
       "      <td>3</td>\n",
       "      <td>7991562</td>\n",
       "      <td>0.888</td>\n",
       "      <td>0.000295</td>\n",
       "      <td>6.62</td>\n",
       "      <td>-4.22</td>\n",
       "      <td>1.24</td>\n",
       "      <td>PRKXP1</td>\n",
       "      <td>protein kinase, X-linked, pseudogene 1</td>\n",
       "    </tr>\n",
       "    <tr>\n",
       "      <td>6</td>\n",
       "      <td>7979307</td>\n",
       "      <td>0.888</td>\n",
       "      <td>0.000789</td>\n",
       "      <td>5.62</td>\n",
       "      <td>-4.24</td>\n",
       "      <td>1.79</td>\n",
       "      <td>DLGAP5</td>\n",
       "      <td>DLG associated protein 5</td>\n",
       "    </tr>\n",
       "  </tbody>\n",
       "</table>\n",
       "</div>"
      ],
      "text/plain": [
       "        ID  adj.P.Val   P.Value     t     B  logFC             Gene.symbol  \\\n",
       "0  8149116      0.888  0.000168  7.24 -4.20   2.94  DEFA1B///DEFA3///DEFA1   \n",
       "1  8149126      0.888  0.000168  7.24 -4.20   2.94  DEFA1B///DEFA3///DEFA1   \n",
       "2  8149137      0.888  0.000168  7.24 -4.20   2.94  DEFA1B///DEFA3///DEFA1   \n",
       "3  7991562      0.888  0.000295  6.62 -4.22   1.24                  PRKXP1   \n",
       "6  7979307      0.888  0.000789  5.62 -4.24   1.79                  DLGAP5   \n",
       "\n",
       "                                          Gene.title  \n",
       "0  defensin alpha 1B///defensin alpha 3///defensi...  \n",
       "1  defensin alpha 1B///defensin alpha 3///defensi...  \n",
       "2  defensin alpha 1B///defensin alpha 3///defensi...  \n",
       "3             protein kinase, X-linked, pseudogene 1  \n",
       "6                           DLG associated protein 5  "
      ]
     },
     "execution_count": 8,
     "metadata": {},
     "output_type": "execute_result"
    }
   ],
   "source": [
    "df.head()"
   ]
  },
  {
   "cell_type": "code",
   "execution_count": 9,
   "metadata": {},
   "outputs": [],
   "source": [
    "#df.drop(['GB_ACC'],axis=1,inplace=True)"
   ]
  },
  {
   "cell_type": "code",
   "execution_count": 12,
   "metadata": {},
   "outputs": [],
   "source": [
    "#pd.set_option('display.max_row',None)\n",
    "#df"
   ]
  },
  {
   "cell_type": "code",
   "execution_count": 9,
   "metadata": {},
   "outputs": [
    {
     "data": {
      "text/plain": [
       "ID             0\n",
       "adj.P.Val      0\n",
       "P.Value        0\n",
       "t              0\n",
       "B              0\n",
       "logFC          0\n",
       "Gene.symbol    0\n",
       "Gene.title     0\n",
       "dtype: int64"
      ]
     },
     "execution_count": 9,
     "metadata": {},
     "output_type": "execute_result"
    }
   ],
   "source": [
    "df.isna().sum()"
   ]
  },
  {
   "cell_type": "code",
   "execution_count": 13,
   "metadata": {},
   "outputs": [],
   "source": [
    "#df.dropna(inplace=True,axis=0,subset=['adj.P.Val'])"
   ]
  },
  {
   "cell_type": "code",
   "execution_count": 11,
   "metadata": {},
   "outputs": [],
   "source": [
    "#df.isna().sum()"
   ]
  },
  {
   "cell_type": "code",
   "execution_count": 10,
   "metadata": {},
   "outputs": [],
   "source": [
    "#df.head()"
   ]
  },
  {
   "cell_type": "code",
   "execution_count": 13,
   "metadata": {},
   "outputs": [
    {
     "data": {
      "text/plain": [
       "(22195, 8)"
      ]
     },
     "execution_count": 13,
     "metadata": {},
     "output_type": "execute_result"
    }
   ],
   "source": [
    "df.shape"
   ]
  },
  {
   "cell_type": "code",
   "execution_count": 14,
   "metadata": {},
   "outputs": [],
   "source": [
    "#index_name = df[df['SPOT_ID'].notnull()].index"
   ]
  },
  {
   "cell_type": "code",
   "execution_count": 15,
   "metadata": {},
   "outputs": [],
   "source": [
    "#df.drop(index_name, inplace=True)"
   ]
  },
  {
   "cell_type": "code",
   "execution_count": 16,
   "metadata": {},
   "outputs": [],
   "source": [
    "#df.head()"
   ]
  },
  {
   "cell_type": "code",
   "execution_count": 17,
   "metadata": {},
   "outputs": [
    {
     "data": {
      "text/plain": [
       "(22195, 8)"
      ]
     },
     "execution_count": 17,
     "metadata": {},
     "output_type": "execute_result"
    }
   ],
   "source": [
    "df.shape"
   ]
  },
  {
   "cell_type": "markdown",
   "metadata": {},
   "source": [
    "### Consider the rows where adj.P.Val are less than 0.05"
   ]
  },
  {
   "cell_type": "code",
   "execution_count": 21,
   "metadata": {},
   "outputs": [
    {
     "data": {
      "text/plain": [
       "ID             21425\n",
       "adj.P.Val      21425\n",
       "P.Value        21425\n",
       "t              21425\n",
       "B              21425\n",
       "logFC          21425\n",
       "Gene.symbol    21425\n",
       "Gene.title     21425\n",
       "dtype: int64"
      ]
     },
     "execution_count": 21,
     "metadata": {},
     "output_type": "execute_result"
    }
   ],
   "source": [
    "#count rows where adj.P.Val are equal to or greater than 0.05\n",
    "df.loc[df['P.Value'] >= 0.05].count()"
   ]
  },
  {
   "cell_type": "code",
   "execution_count": 22,
   "metadata": {},
   "outputs": [],
   "source": [
    "#remove the rows where adj.P.Val are equal to or greater than 0.05\n",
    "index_names = df[df['P.Value'] >= 0.05].index\n",
    "df.drop(index_names, inplace=True)"
   ]
  },
  {
   "cell_type": "code",
   "execution_count": 23,
   "metadata": {},
   "outputs": [
    {
     "data": {
      "text/plain": [
       "(770, 8)"
      ]
     },
     "execution_count": 23,
     "metadata": {},
     "output_type": "execute_result"
    }
   ],
   "source": [
    "df.shape"
   ]
  },
  {
   "cell_type": "code",
   "execution_count": 24,
   "metadata": {},
   "outputs": [
    {
     "data": {
      "text/html": [
       "<div>\n",
       "<style scoped>\n",
       "    .dataframe tbody tr th:only-of-type {\n",
       "        vertical-align: middle;\n",
       "    }\n",
       "\n",
       "    .dataframe tbody tr th {\n",
       "        vertical-align: top;\n",
       "    }\n",
       "\n",
       "    .dataframe thead th {\n",
       "        text-align: right;\n",
       "    }\n",
       "</style>\n",
       "<table border=\"1\" class=\"dataframe\">\n",
       "  <thead>\n",
       "    <tr style=\"text-align: right;\">\n",
       "      <th></th>\n",
       "      <th>ID</th>\n",
       "      <th>adj.P.Val</th>\n",
       "      <th>P.Value</th>\n",
       "      <th>t</th>\n",
       "      <th>B</th>\n",
       "      <th>logFC</th>\n",
       "      <th>Gene.symbol</th>\n",
       "      <th>Gene.title</th>\n",
       "    </tr>\n",
       "  </thead>\n",
       "  <tbody>\n",
       "    <tr>\n",
       "      <td>0</td>\n",
       "      <td>8149116</td>\n",
       "      <td>0.888</td>\n",
       "      <td>0.000168</td>\n",
       "      <td>7.24</td>\n",
       "      <td>-4.20</td>\n",
       "      <td>2.94</td>\n",
       "      <td>DEFA1B///DEFA3///DEFA1</td>\n",
       "      <td>defensin alpha 1B///defensin alpha 3///defensi...</td>\n",
       "    </tr>\n",
       "    <tr>\n",
       "      <td>1</td>\n",
       "      <td>8149126</td>\n",
       "      <td>0.888</td>\n",
       "      <td>0.000168</td>\n",
       "      <td>7.24</td>\n",
       "      <td>-4.20</td>\n",
       "      <td>2.94</td>\n",
       "      <td>DEFA1B///DEFA3///DEFA1</td>\n",
       "      <td>defensin alpha 1B///defensin alpha 3///defensi...</td>\n",
       "    </tr>\n",
       "    <tr>\n",
       "      <td>2</td>\n",
       "      <td>8149137</td>\n",
       "      <td>0.888</td>\n",
       "      <td>0.000168</td>\n",
       "      <td>7.24</td>\n",
       "      <td>-4.20</td>\n",
       "      <td>2.94</td>\n",
       "      <td>DEFA1B///DEFA3///DEFA1</td>\n",
       "      <td>defensin alpha 1B///defensin alpha 3///defensi...</td>\n",
       "    </tr>\n",
       "    <tr>\n",
       "      <td>3</td>\n",
       "      <td>7991562</td>\n",
       "      <td>0.888</td>\n",
       "      <td>0.000295</td>\n",
       "      <td>6.62</td>\n",
       "      <td>-4.22</td>\n",
       "      <td>1.24</td>\n",
       "      <td>PRKXP1</td>\n",
       "      <td>protein kinase, X-linked, pseudogene 1</td>\n",
       "    </tr>\n",
       "    <tr>\n",
       "      <td>6</td>\n",
       "      <td>7979307</td>\n",
       "      <td>0.888</td>\n",
       "      <td>0.000789</td>\n",
       "      <td>5.62</td>\n",
       "      <td>-4.24</td>\n",
       "      <td>1.79</td>\n",
       "      <td>DLGAP5</td>\n",
       "      <td>DLG associated protein 5</td>\n",
       "    </tr>\n",
       "  </tbody>\n",
       "</table>\n",
       "</div>"
      ],
      "text/plain": [
       "        ID  adj.P.Val   P.Value     t     B  logFC             Gene.symbol  \\\n",
       "0  8149116      0.888  0.000168  7.24 -4.20   2.94  DEFA1B///DEFA3///DEFA1   \n",
       "1  8149126      0.888  0.000168  7.24 -4.20   2.94  DEFA1B///DEFA3///DEFA1   \n",
       "2  8149137      0.888  0.000168  7.24 -4.20   2.94  DEFA1B///DEFA3///DEFA1   \n",
       "3  7991562      0.888  0.000295  6.62 -4.22   1.24                  PRKXP1   \n",
       "6  7979307      0.888  0.000789  5.62 -4.24   1.79                  DLGAP5   \n",
       "\n",
       "                                          Gene.title  \n",
       "0  defensin alpha 1B///defensin alpha 3///defensi...  \n",
       "1  defensin alpha 1B///defensin alpha 3///defensi...  \n",
       "2  defensin alpha 1B///defensin alpha 3///defensi...  \n",
       "3             protein kinase, X-linked, pseudogene 1  \n",
       "6                           DLG associated protein 5  "
      ]
     },
     "execution_count": 24,
     "metadata": {},
     "output_type": "execute_result"
    }
   ],
   "source": [
    "df.head()"
   ]
  },
  {
   "cell_type": "markdown",
   "metadata": {},
   "source": [
    "### Find the absolute values of logFC, and take the rows where absolute values of logFC >= 1"
   ]
  },
  {
   "cell_type": "code",
   "execution_count": 25,
   "metadata": {},
   "outputs": [],
   "source": [
    "df['absolute_logFC'] = df['logFC'].abs()"
   ]
  },
  {
   "cell_type": "code",
   "execution_count": 26,
   "metadata": {},
   "outputs": [
    {
     "data": {
      "text/html": [
       "<div>\n",
       "<style scoped>\n",
       "    .dataframe tbody tr th:only-of-type {\n",
       "        vertical-align: middle;\n",
       "    }\n",
       "\n",
       "    .dataframe tbody tr th {\n",
       "        vertical-align: top;\n",
       "    }\n",
       "\n",
       "    .dataframe thead th {\n",
       "        text-align: right;\n",
       "    }\n",
       "</style>\n",
       "<table border=\"1\" class=\"dataframe\">\n",
       "  <thead>\n",
       "    <tr style=\"text-align: right;\">\n",
       "      <th></th>\n",
       "      <th>ID</th>\n",
       "      <th>adj.P.Val</th>\n",
       "      <th>P.Value</th>\n",
       "      <th>t</th>\n",
       "      <th>B</th>\n",
       "      <th>logFC</th>\n",
       "      <th>Gene.symbol</th>\n",
       "      <th>Gene.title</th>\n",
       "      <th>absolute_logFC</th>\n",
       "    </tr>\n",
       "  </thead>\n",
       "  <tbody>\n",
       "    <tr>\n",
       "      <td>0</td>\n",
       "      <td>8149116</td>\n",
       "      <td>0.888</td>\n",
       "      <td>0.000168</td>\n",
       "      <td>7.24</td>\n",
       "      <td>-4.20</td>\n",
       "      <td>2.94</td>\n",
       "      <td>DEFA1B///DEFA3///DEFA1</td>\n",
       "      <td>defensin alpha 1B///defensin alpha 3///defensi...</td>\n",
       "      <td>2.94</td>\n",
       "    </tr>\n",
       "    <tr>\n",
       "      <td>1</td>\n",
       "      <td>8149126</td>\n",
       "      <td>0.888</td>\n",
       "      <td>0.000168</td>\n",
       "      <td>7.24</td>\n",
       "      <td>-4.20</td>\n",
       "      <td>2.94</td>\n",
       "      <td>DEFA1B///DEFA3///DEFA1</td>\n",
       "      <td>defensin alpha 1B///defensin alpha 3///defensi...</td>\n",
       "      <td>2.94</td>\n",
       "    </tr>\n",
       "    <tr>\n",
       "      <td>2</td>\n",
       "      <td>8149137</td>\n",
       "      <td>0.888</td>\n",
       "      <td>0.000168</td>\n",
       "      <td>7.24</td>\n",
       "      <td>-4.20</td>\n",
       "      <td>2.94</td>\n",
       "      <td>DEFA1B///DEFA3///DEFA1</td>\n",
       "      <td>defensin alpha 1B///defensin alpha 3///defensi...</td>\n",
       "      <td>2.94</td>\n",
       "    </tr>\n",
       "    <tr>\n",
       "      <td>3</td>\n",
       "      <td>7991562</td>\n",
       "      <td>0.888</td>\n",
       "      <td>0.000295</td>\n",
       "      <td>6.62</td>\n",
       "      <td>-4.22</td>\n",
       "      <td>1.24</td>\n",
       "      <td>PRKXP1</td>\n",
       "      <td>protein kinase, X-linked, pseudogene 1</td>\n",
       "      <td>1.24</td>\n",
       "    </tr>\n",
       "    <tr>\n",
       "      <td>6</td>\n",
       "      <td>7979307</td>\n",
       "      <td>0.888</td>\n",
       "      <td>0.000789</td>\n",
       "      <td>5.62</td>\n",
       "      <td>-4.24</td>\n",
       "      <td>1.79</td>\n",
       "      <td>DLGAP5</td>\n",
       "      <td>DLG associated protein 5</td>\n",
       "      <td>1.79</td>\n",
       "    </tr>\n",
       "  </tbody>\n",
       "</table>\n",
       "</div>"
      ],
      "text/plain": [
       "        ID  adj.P.Val   P.Value     t     B  logFC             Gene.symbol  \\\n",
       "0  8149116      0.888  0.000168  7.24 -4.20   2.94  DEFA1B///DEFA3///DEFA1   \n",
       "1  8149126      0.888  0.000168  7.24 -4.20   2.94  DEFA1B///DEFA3///DEFA1   \n",
       "2  8149137      0.888  0.000168  7.24 -4.20   2.94  DEFA1B///DEFA3///DEFA1   \n",
       "3  7991562      0.888  0.000295  6.62 -4.22   1.24                  PRKXP1   \n",
       "6  7979307      0.888  0.000789  5.62 -4.24   1.79                  DLGAP5   \n",
       "\n",
       "                                          Gene.title  absolute_logFC  \n",
       "0  defensin alpha 1B///defensin alpha 3///defensi...            2.94  \n",
       "1  defensin alpha 1B///defensin alpha 3///defensi...            2.94  \n",
       "2  defensin alpha 1B///defensin alpha 3///defensi...            2.94  \n",
       "3             protein kinase, X-linked, pseudogene 1            1.24  \n",
       "6                           DLG associated protein 5            1.79  "
      ]
     },
     "execution_count": 26,
     "metadata": {},
     "output_type": "execute_result"
    }
   ],
   "source": [
    "df.head()"
   ]
  },
  {
   "cell_type": "code",
   "execution_count": 27,
   "metadata": {},
   "outputs": [
    {
     "data": {
      "text/plain": [
       "ID                527\n",
       "adj.P.Val         527\n",
       "P.Value           527\n",
       "t                 527\n",
       "B                 527\n",
       "logFC             527\n",
       "Gene.symbol       527\n",
       "Gene.title        527\n",
       "absolute_logFC    527\n",
       "dtype: int64"
      ]
     },
     "execution_count": 27,
     "metadata": {},
     "output_type": "execute_result"
    }
   ],
   "source": [
    "#count the number of rows where absolute_logGC < 1\n",
    "df[df['absolute_logFC'] < 1].count()"
   ]
  },
  {
   "cell_type": "code",
   "execution_count": 28,
   "metadata": {},
   "outputs": [],
   "source": [
    "#remove the rows where the values of absolute_logFC are less than 1\n",
    "index_names = df[df['absolute_logFC'] < 1].index\n",
    "df.drop(index_names, inplace=True)"
   ]
  },
  {
   "cell_type": "code",
   "execution_count": 29,
   "metadata": {},
   "outputs": [
    {
     "data": {
      "text/html": [
       "<div>\n",
       "<style scoped>\n",
       "    .dataframe tbody tr th:only-of-type {\n",
       "        vertical-align: middle;\n",
       "    }\n",
       "\n",
       "    .dataframe tbody tr th {\n",
       "        vertical-align: top;\n",
       "    }\n",
       "\n",
       "    .dataframe thead th {\n",
       "        text-align: right;\n",
       "    }\n",
       "</style>\n",
       "<table border=\"1\" class=\"dataframe\">\n",
       "  <thead>\n",
       "    <tr style=\"text-align: right;\">\n",
       "      <th></th>\n",
       "      <th>ID</th>\n",
       "      <th>adj.P.Val</th>\n",
       "      <th>P.Value</th>\n",
       "      <th>t</th>\n",
       "      <th>B</th>\n",
       "      <th>logFC</th>\n",
       "      <th>Gene.symbol</th>\n",
       "      <th>Gene.title</th>\n",
       "      <th>absolute_logFC</th>\n",
       "    </tr>\n",
       "  </thead>\n",
       "  <tbody>\n",
       "    <tr>\n",
       "      <td>0</td>\n",
       "      <td>8149116</td>\n",
       "      <td>0.888</td>\n",
       "      <td>0.000168</td>\n",
       "      <td>7.24</td>\n",
       "      <td>-4.20</td>\n",
       "      <td>2.94</td>\n",
       "      <td>DEFA1B///DEFA3///DEFA1</td>\n",
       "      <td>defensin alpha 1B///defensin alpha 3///defensi...</td>\n",
       "      <td>2.94</td>\n",
       "    </tr>\n",
       "    <tr>\n",
       "      <td>1</td>\n",
       "      <td>8149126</td>\n",
       "      <td>0.888</td>\n",
       "      <td>0.000168</td>\n",
       "      <td>7.24</td>\n",
       "      <td>-4.20</td>\n",
       "      <td>2.94</td>\n",
       "      <td>DEFA1B///DEFA3///DEFA1</td>\n",
       "      <td>defensin alpha 1B///defensin alpha 3///defensi...</td>\n",
       "      <td>2.94</td>\n",
       "    </tr>\n",
       "    <tr>\n",
       "      <td>2</td>\n",
       "      <td>8149137</td>\n",
       "      <td>0.888</td>\n",
       "      <td>0.000168</td>\n",
       "      <td>7.24</td>\n",
       "      <td>-4.20</td>\n",
       "      <td>2.94</td>\n",
       "      <td>DEFA1B///DEFA3///DEFA1</td>\n",
       "      <td>defensin alpha 1B///defensin alpha 3///defensi...</td>\n",
       "      <td>2.94</td>\n",
       "    </tr>\n",
       "    <tr>\n",
       "      <td>3</td>\n",
       "      <td>7991562</td>\n",
       "      <td>0.888</td>\n",
       "      <td>0.000295</td>\n",
       "      <td>6.62</td>\n",
       "      <td>-4.22</td>\n",
       "      <td>1.24</td>\n",
       "      <td>PRKXP1</td>\n",
       "      <td>protein kinase, X-linked, pseudogene 1</td>\n",
       "      <td>1.24</td>\n",
       "    </tr>\n",
       "    <tr>\n",
       "      <td>6</td>\n",
       "      <td>7979307</td>\n",
       "      <td>0.888</td>\n",
       "      <td>0.000789</td>\n",
       "      <td>5.62</td>\n",
       "      <td>-4.24</td>\n",
       "      <td>1.79</td>\n",
       "      <td>DLGAP5</td>\n",
       "      <td>DLG associated protein 5</td>\n",
       "      <td>1.79</td>\n",
       "    </tr>\n",
       "    <tr>\n",
       "      <td>...</td>\n",
       "      <td>...</td>\n",
       "      <td>...</td>\n",
       "      <td>...</td>\n",
       "      <td>...</td>\n",
       "      <td>...</td>\n",
       "      <td>...</td>\n",
       "      <td>...</td>\n",
       "      <td>...</td>\n",
       "      <td>...</td>\n",
       "    </tr>\n",
       "    <tr>\n",
       "      <td>976</td>\n",
       "      <td>8174051</td>\n",
       "      <td>0.888</td>\n",
       "      <td>0.048623</td>\n",
       "      <td>2.38</td>\n",
       "      <td>-4.44</td>\n",
       "      <td>1.07</td>\n",
       "      <td>BTK</td>\n",
       "      <td>Bruton tyrosine kinase</td>\n",
       "      <td>1.07</td>\n",
       "    </tr>\n",
       "    <tr>\n",
       "      <td>977</td>\n",
       "      <td>7908553</td>\n",
       "      <td>0.888</td>\n",
       "      <td>0.048664</td>\n",
       "      <td>2.38</td>\n",
       "      <td>-4.44</td>\n",
       "      <td>1.00</td>\n",
       "      <td>PTPRC</td>\n",
       "      <td>protein tyrosine phosphatase, receptor type C</td>\n",
       "      <td>1.00</td>\n",
       "    </tr>\n",
       "    <tr>\n",
       "      <td>990</td>\n",
       "      <td>8075910</td>\n",
       "      <td>0.888</td>\n",
       "      <td>0.048925</td>\n",
       "      <td>2.38</td>\n",
       "      <td>-4.44</td>\n",
       "      <td>1.04</td>\n",
       "      <td>RAC2</td>\n",
       "      <td>ras-related C3 botulinum toxin substrate 2 (rh...</td>\n",
       "      <td>1.04</td>\n",
       "    </tr>\n",
       "    <tr>\n",
       "      <td>1023</td>\n",
       "      <td>8022338</td>\n",
       "      <td>0.888</td>\n",
       "      <td>0.049912</td>\n",
       "      <td>-2.36</td>\n",
       "      <td>-4.44</td>\n",
       "      <td>-1.88</td>\n",
       "      <td>LOC100996333///ADGRA3</td>\n",
       "      <td>G protein-coupled receptor 125 pseudogene///ad...</td>\n",
       "      <td>1.88</td>\n",
       "    </tr>\n",
       "    <tr>\n",
       "      <td>1024</td>\n",
       "      <td>8110966</td>\n",
       "      <td>0.888</td>\n",
       "      <td>0.049998</td>\n",
       "      <td>2.36</td>\n",
       "      <td>-4.44</td>\n",
       "      <td>1.26</td>\n",
       "      <td>FAM173B</td>\n",
       "      <td>family with sequence similarity 173 member B</td>\n",
       "      <td>1.26</td>\n",
       "    </tr>\n",
       "  </tbody>\n",
       "</table>\n",
       "<p>243 rows × 9 columns</p>\n",
       "</div>"
      ],
      "text/plain": [
       "           ID  adj.P.Val   P.Value     t     B  logFC             Gene.symbol  \\\n",
       "0     8149116      0.888  0.000168  7.24 -4.20   2.94  DEFA1B///DEFA3///DEFA1   \n",
       "1     8149126      0.888  0.000168  7.24 -4.20   2.94  DEFA1B///DEFA3///DEFA1   \n",
       "2     8149137      0.888  0.000168  7.24 -4.20   2.94  DEFA1B///DEFA3///DEFA1   \n",
       "3     7991562      0.888  0.000295  6.62 -4.22   1.24                  PRKXP1   \n",
       "6     7979307      0.888  0.000789  5.62 -4.24   1.79                  DLGAP5   \n",
       "...       ...        ...       ...   ...   ...    ...                     ...   \n",
       "976   8174051      0.888  0.048623  2.38 -4.44   1.07                     BTK   \n",
       "977   7908553      0.888  0.048664  2.38 -4.44   1.00                   PTPRC   \n",
       "990   8075910      0.888  0.048925  2.38 -4.44   1.04                    RAC2   \n",
       "1023  8022338      0.888  0.049912 -2.36 -4.44  -1.88   LOC100996333///ADGRA3   \n",
       "1024  8110966      0.888  0.049998  2.36 -4.44   1.26                 FAM173B   \n",
       "\n",
       "                                             Gene.title  absolute_logFC  \n",
       "0     defensin alpha 1B///defensin alpha 3///defensi...            2.94  \n",
       "1     defensin alpha 1B///defensin alpha 3///defensi...            2.94  \n",
       "2     defensin alpha 1B///defensin alpha 3///defensi...            2.94  \n",
       "3                protein kinase, X-linked, pseudogene 1            1.24  \n",
       "6                              DLG associated protein 5            1.79  \n",
       "...                                                 ...             ...  \n",
       "976                              Bruton tyrosine kinase            1.07  \n",
       "977       protein tyrosine phosphatase, receptor type C            1.00  \n",
       "990   ras-related C3 botulinum toxin substrate 2 (rh...            1.04  \n",
       "1023  G protein-coupled receptor 125 pseudogene///ad...            1.88  \n",
       "1024       family with sequence similarity 173 member B            1.26  \n",
       "\n",
       "[243 rows x 9 columns]"
      ]
     },
     "execution_count": 29,
     "metadata": {},
     "output_type": "execute_result"
    }
   ],
   "source": [
    "#pd.set_option('display.max_row',None)\n",
    "df"
   ]
  },
  {
   "cell_type": "code",
   "execution_count": 30,
   "metadata": {},
   "outputs": [
    {
     "data": {
      "text/plain": [
       "(243, 9)"
      ]
     },
     "execution_count": 30,
     "metadata": {},
     "output_type": "execute_result"
    }
   ],
   "source": [
    "df.shape"
   ]
  },
  {
   "cell_type": "code",
   "execution_count": 31,
   "metadata": {},
   "outputs": [],
   "source": [
    "#df[df['GeneName'].str.match('LOC',na=False)]"
   ]
  },
  {
   "cell_type": "code",
   "execution_count": 32,
   "metadata": {},
   "outputs": [],
   "source": [
    "#index_name = df[df['GeneName'].str.match('LOC',na=False)].index\n",
    "#df.drop(index_name,inplace=True)"
   ]
  },
  {
   "cell_type": "code",
   "execution_count": 33,
   "metadata": {},
   "outputs": [],
   "source": [
    "#df.shape"
   ]
  },
  {
   "cell_type": "code",
   "execution_count": 34,
   "metadata": {},
   "outputs": [],
   "source": [
    "#df"
   ]
  },
  {
   "cell_type": "markdown",
   "metadata": {},
   "source": [
    "### Differentially Expressed Genes"
   ]
  },
  {
   "cell_type": "code",
   "execution_count": 35,
   "metadata": {},
   "outputs": [
    {
     "data": {
      "text/plain": [
       "ID                29\n",
       "adj.P.Val         29\n",
       "P.Value           29\n",
       "t                 29\n",
       "B                 29\n",
       "logFC             29\n",
       "Gene.symbol       29\n",
       "Gene.title        29\n",
       "absolute_logFC    29\n",
       "dtype: int64"
      ]
     },
     "execution_count": 35,
     "metadata": {},
     "output_type": "execute_result"
    }
   ],
   "source": [
    "#number of down regulatd genes\n",
    "df.loc[df['logFC'] < 0].count()"
   ]
  },
  {
   "cell_type": "code",
   "execution_count": 36,
   "metadata": {},
   "outputs": [
    {
     "data": {
      "text/plain": [
       "ID                214\n",
       "adj.P.Val         214\n",
       "P.Value           214\n",
       "t                 214\n",
       "B                 214\n",
       "logFC             214\n",
       "Gene.symbol       214\n",
       "Gene.title        214\n",
       "absolute_logFC    214\n",
       "dtype: int64"
      ]
     },
     "execution_count": 36,
     "metadata": {},
     "output_type": "execute_result"
    }
   ],
   "source": [
    "#number of up regulated genges\n",
    "df.loc[df['logFC'] > 0].count()"
   ]
  },
  {
   "cell_type": "code",
   "execution_count": 37,
   "metadata": {},
   "outputs": [],
   "source": [
    "df_downRegulated = df.loc[df['logFC'] < 0]"
   ]
  },
  {
   "cell_type": "code",
   "execution_count": 38,
   "metadata": {},
   "outputs": [],
   "source": [
    "df_upRegulated = df.loc[df['logFC'] > 0]"
   ]
  },
  {
   "cell_type": "code",
   "execution_count": 39,
   "metadata": {},
   "outputs": [
    {
     "data": {
      "text/html": [
       "<div>\n",
       "<style scoped>\n",
       "    .dataframe tbody tr th:only-of-type {\n",
       "        vertical-align: middle;\n",
       "    }\n",
       "\n",
       "    .dataframe tbody tr th {\n",
       "        vertical-align: top;\n",
       "    }\n",
       "\n",
       "    .dataframe thead th {\n",
       "        text-align: right;\n",
       "    }\n",
       "</style>\n",
       "<table border=\"1\" class=\"dataframe\">\n",
       "  <thead>\n",
       "    <tr style=\"text-align: right;\">\n",
       "      <th></th>\n",
       "      <th>ID</th>\n",
       "      <th>adj.P.Val</th>\n",
       "      <th>P.Value</th>\n",
       "      <th>t</th>\n",
       "      <th>B</th>\n",
       "      <th>logFC</th>\n",
       "      <th>Gene.symbol</th>\n",
       "      <th>Gene.title</th>\n",
       "      <th>absolute_logFC</th>\n",
       "    </tr>\n",
       "  </thead>\n",
       "  <tbody>\n",
       "    <tr>\n",
       "      <td>49</td>\n",
       "      <td>8069340</td>\n",
       "      <td>0.888</td>\n",
       "      <td>0.004212</td>\n",
       "      <td>-4.16</td>\n",
       "      <td>-4.30</td>\n",
       "      <td>-1.03</td>\n",
       "      <td>YBEY</td>\n",
       "      <td>ybeY metallopeptidase (putative)</td>\n",
       "      <td>1.03</td>\n",
       "    </tr>\n",
       "    <tr>\n",
       "      <td>52</td>\n",
       "      <td>7972682</td>\n",
       "      <td>0.888</td>\n",
       "      <td>0.004472</td>\n",
       "      <td>-4.11</td>\n",
       "      <td>-4.30</td>\n",
       "      <td>-1.20</td>\n",
       "      <td>KDELC1</td>\n",
       "      <td>KDEL motif containing 1</td>\n",
       "      <td>1.20</td>\n",
       "    </tr>\n",
       "    <tr>\n",
       "      <td>79</td>\n",
       "      <td>7976488</td>\n",
       "      <td>0.888</td>\n",
       "      <td>0.006005</td>\n",
       "      <td>-3.88</td>\n",
       "      <td>-4.31</td>\n",
       "      <td>-1.20</td>\n",
       "      <td>SERPINA5</td>\n",
       "      <td>serpin family A member 5</td>\n",
       "      <td>1.20</td>\n",
       "    </tr>\n",
       "    <tr>\n",
       "      <td>84</td>\n",
       "      <td>8143597</td>\n",
       "      <td>0.888</td>\n",
       "      <td>0.006412</td>\n",
       "      <td>-3.83</td>\n",
       "      <td>-4.32</td>\n",
       "      <td>-1.20</td>\n",
       "      <td>TCAF1</td>\n",
       "      <td>TRPM8 channel associated factor 1</td>\n",
       "      <td>1.20</td>\n",
       "    </tr>\n",
       "    <tr>\n",
       "      <td>91</td>\n",
       "      <td>8104746</td>\n",
       "      <td>0.888</td>\n",
       "      <td>0.006886</td>\n",
       "      <td>-3.78</td>\n",
       "      <td>-4.32</td>\n",
       "      <td>-1.19</td>\n",
       "      <td>NPR3</td>\n",
       "      <td>natriuretic peptide receptor 3</td>\n",
       "      <td>1.19</td>\n",
       "    </tr>\n",
       "  </tbody>\n",
       "</table>\n",
       "</div>"
      ],
      "text/plain": [
       "         ID  adj.P.Val   P.Value     t     B  logFC Gene.symbol  \\\n",
       "49  8069340      0.888  0.004212 -4.16 -4.30  -1.03        YBEY   \n",
       "52  7972682      0.888  0.004472 -4.11 -4.30  -1.20      KDELC1   \n",
       "79  7976488      0.888  0.006005 -3.88 -4.31  -1.20    SERPINA5   \n",
       "84  8143597      0.888  0.006412 -3.83 -4.32  -1.20       TCAF1   \n",
       "91  8104746      0.888  0.006886 -3.78 -4.32  -1.19        NPR3   \n",
       "\n",
       "                           Gene.title  absolute_logFC  \n",
       "49   ybeY metallopeptidase (putative)            1.03  \n",
       "52            KDEL motif containing 1            1.20  \n",
       "79           serpin family A member 5            1.20  \n",
       "84  TRPM8 channel associated factor 1            1.20  \n",
       "91     natriuretic peptide receptor 3            1.19  "
      ]
     },
     "execution_count": 39,
     "metadata": {},
     "output_type": "execute_result"
    }
   ],
   "source": [
    "df_downRegulated.head()"
   ]
  },
  {
   "cell_type": "code",
   "execution_count": 40,
   "metadata": {},
   "outputs": [
    {
     "data": {
      "text/html": [
       "<div>\n",
       "<style scoped>\n",
       "    .dataframe tbody tr th:only-of-type {\n",
       "        vertical-align: middle;\n",
       "    }\n",
       "\n",
       "    .dataframe tbody tr th {\n",
       "        vertical-align: top;\n",
       "    }\n",
       "\n",
       "    .dataframe thead th {\n",
       "        text-align: right;\n",
       "    }\n",
       "</style>\n",
       "<table border=\"1\" class=\"dataframe\">\n",
       "  <thead>\n",
       "    <tr style=\"text-align: right;\">\n",
       "      <th></th>\n",
       "      <th>ID</th>\n",
       "      <th>adj.P.Val</th>\n",
       "      <th>P.Value</th>\n",
       "      <th>t</th>\n",
       "      <th>B</th>\n",
       "      <th>logFC</th>\n",
       "      <th>Gene.symbol</th>\n",
       "      <th>Gene.title</th>\n",
       "      <th>absolute_logFC</th>\n",
       "    </tr>\n",
       "  </thead>\n",
       "  <tbody>\n",
       "    <tr>\n",
       "      <td>0</td>\n",
       "      <td>8149116</td>\n",
       "      <td>0.888</td>\n",
       "      <td>0.000168</td>\n",
       "      <td>7.24</td>\n",
       "      <td>-4.20</td>\n",
       "      <td>2.94</td>\n",
       "      <td>DEFA1B///DEFA3///DEFA1</td>\n",
       "      <td>defensin alpha 1B///defensin alpha 3///defensi...</td>\n",
       "      <td>2.94</td>\n",
       "    </tr>\n",
       "    <tr>\n",
       "      <td>1</td>\n",
       "      <td>8149126</td>\n",
       "      <td>0.888</td>\n",
       "      <td>0.000168</td>\n",
       "      <td>7.24</td>\n",
       "      <td>-4.20</td>\n",
       "      <td>2.94</td>\n",
       "      <td>DEFA1B///DEFA3///DEFA1</td>\n",
       "      <td>defensin alpha 1B///defensin alpha 3///defensi...</td>\n",
       "      <td>2.94</td>\n",
       "    </tr>\n",
       "    <tr>\n",
       "      <td>2</td>\n",
       "      <td>8149137</td>\n",
       "      <td>0.888</td>\n",
       "      <td>0.000168</td>\n",
       "      <td>7.24</td>\n",
       "      <td>-4.20</td>\n",
       "      <td>2.94</td>\n",
       "      <td>DEFA1B///DEFA3///DEFA1</td>\n",
       "      <td>defensin alpha 1B///defensin alpha 3///defensi...</td>\n",
       "      <td>2.94</td>\n",
       "    </tr>\n",
       "    <tr>\n",
       "      <td>3</td>\n",
       "      <td>7991562</td>\n",
       "      <td>0.888</td>\n",
       "      <td>0.000295</td>\n",
       "      <td>6.62</td>\n",
       "      <td>-4.22</td>\n",
       "      <td>1.24</td>\n",
       "      <td>PRKXP1</td>\n",
       "      <td>protein kinase, X-linked, pseudogene 1</td>\n",
       "      <td>1.24</td>\n",
       "    </tr>\n",
       "    <tr>\n",
       "      <td>6</td>\n",
       "      <td>7979307</td>\n",
       "      <td>0.888</td>\n",
       "      <td>0.000789</td>\n",
       "      <td>5.62</td>\n",
       "      <td>-4.24</td>\n",
       "      <td>1.79</td>\n",
       "      <td>DLGAP5</td>\n",
       "      <td>DLG associated protein 5</td>\n",
       "      <td>1.79</td>\n",
       "    </tr>\n",
       "  </tbody>\n",
       "</table>\n",
       "</div>"
      ],
      "text/plain": [
       "        ID  adj.P.Val   P.Value     t     B  logFC             Gene.symbol  \\\n",
       "0  8149116      0.888  0.000168  7.24 -4.20   2.94  DEFA1B///DEFA3///DEFA1   \n",
       "1  8149126      0.888  0.000168  7.24 -4.20   2.94  DEFA1B///DEFA3///DEFA1   \n",
       "2  8149137      0.888  0.000168  7.24 -4.20   2.94  DEFA1B///DEFA3///DEFA1   \n",
       "3  7991562      0.888  0.000295  6.62 -4.22   1.24                  PRKXP1   \n",
       "6  7979307      0.888  0.000789  5.62 -4.24   1.79                  DLGAP5   \n",
       "\n",
       "                                          Gene.title  absolute_logFC  \n",
       "0  defensin alpha 1B///defensin alpha 3///defensi...            2.94  \n",
       "1  defensin alpha 1B///defensin alpha 3///defensi...            2.94  \n",
       "2  defensin alpha 1B///defensin alpha 3///defensi...            2.94  \n",
       "3             protein kinase, X-linked, pseudogene 1            1.24  \n",
       "6                           DLG associated protein 5            1.79  "
      ]
     },
     "execution_count": 40,
     "metadata": {},
     "output_type": "execute_result"
    }
   ],
   "source": [
    "df_upRegulated.head()"
   ]
  },
  {
   "cell_type": "code",
   "execution_count": 41,
   "metadata": {},
   "outputs": [],
   "source": [
    "df_downRegulated.reset_index(inplace=True)"
   ]
  },
  {
   "cell_type": "code",
   "execution_count": 42,
   "metadata": {},
   "outputs": [],
   "source": [
    "df_upRegulated.reset_index(inplace=True)"
   ]
  },
  {
   "cell_type": "code",
   "execution_count": 43,
   "metadata": {},
   "outputs": [
    {
     "data": {
      "text/html": [
       "<div>\n",
       "<style scoped>\n",
       "    .dataframe tbody tr th:only-of-type {\n",
       "        vertical-align: middle;\n",
       "    }\n",
       "\n",
       "    .dataframe tbody tr th {\n",
       "        vertical-align: top;\n",
       "    }\n",
       "\n",
       "    .dataframe thead th {\n",
       "        text-align: right;\n",
       "    }\n",
       "</style>\n",
       "<table border=\"1\" class=\"dataframe\">\n",
       "  <thead>\n",
       "    <tr style=\"text-align: right;\">\n",
       "      <th></th>\n",
       "      <th>index</th>\n",
       "      <th>ID</th>\n",
       "      <th>adj.P.Val</th>\n",
       "      <th>P.Value</th>\n",
       "      <th>t</th>\n",
       "      <th>B</th>\n",
       "      <th>logFC</th>\n",
       "      <th>Gene.symbol</th>\n",
       "      <th>Gene.title</th>\n",
       "      <th>absolute_logFC</th>\n",
       "    </tr>\n",
       "  </thead>\n",
       "  <tbody>\n",
       "    <tr>\n",
       "      <td>0</td>\n",
       "      <td>49</td>\n",
       "      <td>8069340</td>\n",
       "      <td>0.888</td>\n",
       "      <td>0.004212</td>\n",
       "      <td>-4.16</td>\n",
       "      <td>-4.30</td>\n",
       "      <td>-1.03</td>\n",
       "      <td>YBEY</td>\n",
       "      <td>ybeY metallopeptidase (putative)</td>\n",
       "      <td>1.03</td>\n",
       "    </tr>\n",
       "    <tr>\n",
       "      <td>1</td>\n",
       "      <td>52</td>\n",
       "      <td>7972682</td>\n",
       "      <td>0.888</td>\n",
       "      <td>0.004472</td>\n",
       "      <td>-4.11</td>\n",
       "      <td>-4.30</td>\n",
       "      <td>-1.20</td>\n",
       "      <td>KDELC1</td>\n",
       "      <td>KDEL motif containing 1</td>\n",
       "      <td>1.20</td>\n",
       "    </tr>\n",
       "    <tr>\n",
       "      <td>2</td>\n",
       "      <td>79</td>\n",
       "      <td>7976488</td>\n",
       "      <td>0.888</td>\n",
       "      <td>0.006005</td>\n",
       "      <td>-3.88</td>\n",
       "      <td>-4.31</td>\n",
       "      <td>-1.20</td>\n",
       "      <td>SERPINA5</td>\n",
       "      <td>serpin family A member 5</td>\n",
       "      <td>1.20</td>\n",
       "    </tr>\n",
       "    <tr>\n",
       "      <td>3</td>\n",
       "      <td>84</td>\n",
       "      <td>8143597</td>\n",
       "      <td>0.888</td>\n",
       "      <td>0.006412</td>\n",
       "      <td>-3.83</td>\n",
       "      <td>-4.32</td>\n",
       "      <td>-1.20</td>\n",
       "      <td>TCAF1</td>\n",
       "      <td>TRPM8 channel associated factor 1</td>\n",
       "      <td>1.20</td>\n",
       "    </tr>\n",
       "    <tr>\n",
       "      <td>4</td>\n",
       "      <td>91</td>\n",
       "      <td>8104746</td>\n",
       "      <td>0.888</td>\n",
       "      <td>0.006886</td>\n",
       "      <td>-3.78</td>\n",
       "      <td>-4.32</td>\n",
       "      <td>-1.19</td>\n",
       "      <td>NPR3</td>\n",
       "      <td>natriuretic peptide receptor 3</td>\n",
       "      <td>1.19</td>\n",
       "    </tr>\n",
       "  </tbody>\n",
       "</table>\n",
       "</div>"
      ],
      "text/plain": [
       "   index       ID  adj.P.Val   P.Value     t     B  logFC Gene.symbol  \\\n",
       "0     49  8069340      0.888  0.004212 -4.16 -4.30  -1.03        YBEY   \n",
       "1     52  7972682      0.888  0.004472 -4.11 -4.30  -1.20      KDELC1   \n",
       "2     79  7976488      0.888  0.006005 -3.88 -4.31  -1.20    SERPINA5   \n",
       "3     84  8143597      0.888  0.006412 -3.83 -4.32  -1.20       TCAF1   \n",
       "4     91  8104746      0.888  0.006886 -3.78 -4.32  -1.19        NPR3   \n",
       "\n",
       "                          Gene.title  absolute_logFC  \n",
       "0   ybeY metallopeptidase (putative)            1.03  \n",
       "1            KDEL motif containing 1            1.20  \n",
       "2           serpin family A member 5            1.20  \n",
       "3  TRPM8 channel associated factor 1            1.20  \n",
       "4     natriuretic peptide receptor 3            1.19  "
      ]
     },
     "execution_count": 43,
     "metadata": {},
     "output_type": "execute_result"
    }
   ],
   "source": [
    "df_downRegulated.head()"
   ]
  },
  {
   "cell_type": "code",
   "execution_count": 44,
   "metadata": {},
   "outputs": [
    {
     "name": "stderr",
     "output_type": "stream",
     "text": [
      "C:\\Users\\asifn\\Anaconda3\\lib\\site-packages\\pandas\\core\\frame.py:4102: SettingWithCopyWarning: \n",
      "A value is trying to be set on a copy of a slice from a DataFrame\n",
      "\n",
      "See the caveats in the documentation: http://pandas.pydata.org/pandas-docs/stable/user_guide/indexing.html#returning-a-view-versus-a-copy\n",
      "  errors=errors,\n"
     ]
    }
   ],
   "source": [
    "df_downRegulated.drop(['index'],axis=1,inplace=True)"
   ]
  },
  {
   "cell_type": "code",
   "execution_count": 45,
   "metadata": {},
   "outputs": [
    {
     "data": {
      "text/html": [
       "<div>\n",
       "<style scoped>\n",
       "    .dataframe tbody tr th:only-of-type {\n",
       "        vertical-align: middle;\n",
       "    }\n",
       "\n",
       "    .dataframe tbody tr th {\n",
       "        vertical-align: top;\n",
       "    }\n",
       "\n",
       "    .dataframe thead th {\n",
       "        text-align: right;\n",
       "    }\n",
       "</style>\n",
       "<table border=\"1\" class=\"dataframe\">\n",
       "  <thead>\n",
       "    <tr style=\"text-align: right;\">\n",
       "      <th></th>\n",
       "      <th>index</th>\n",
       "      <th>ID</th>\n",
       "      <th>adj.P.Val</th>\n",
       "      <th>P.Value</th>\n",
       "      <th>t</th>\n",
       "      <th>B</th>\n",
       "      <th>logFC</th>\n",
       "      <th>Gene.symbol</th>\n",
       "      <th>Gene.title</th>\n",
       "      <th>absolute_logFC</th>\n",
       "    </tr>\n",
       "  </thead>\n",
       "  <tbody>\n",
       "    <tr>\n",
       "      <td>0</td>\n",
       "      <td>0</td>\n",
       "      <td>8149116</td>\n",
       "      <td>0.888</td>\n",
       "      <td>0.000168</td>\n",
       "      <td>7.24</td>\n",
       "      <td>-4.20</td>\n",
       "      <td>2.94</td>\n",
       "      <td>DEFA1B///DEFA3///DEFA1</td>\n",
       "      <td>defensin alpha 1B///defensin alpha 3///defensi...</td>\n",
       "      <td>2.94</td>\n",
       "    </tr>\n",
       "    <tr>\n",
       "      <td>1</td>\n",
       "      <td>1</td>\n",
       "      <td>8149126</td>\n",
       "      <td>0.888</td>\n",
       "      <td>0.000168</td>\n",
       "      <td>7.24</td>\n",
       "      <td>-4.20</td>\n",
       "      <td>2.94</td>\n",
       "      <td>DEFA1B///DEFA3///DEFA1</td>\n",
       "      <td>defensin alpha 1B///defensin alpha 3///defensi...</td>\n",
       "      <td>2.94</td>\n",
       "    </tr>\n",
       "    <tr>\n",
       "      <td>2</td>\n",
       "      <td>2</td>\n",
       "      <td>8149137</td>\n",
       "      <td>0.888</td>\n",
       "      <td>0.000168</td>\n",
       "      <td>7.24</td>\n",
       "      <td>-4.20</td>\n",
       "      <td>2.94</td>\n",
       "      <td>DEFA1B///DEFA3///DEFA1</td>\n",
       "      <td>defensin alpha 1B///defensin alpha 3///defensi...</td>\n",
       "      <td>2.94</td>\n",
       "    </tr>\n",
       "    <tr>\n",
       "      <td>3</td>\n",
       "      <td>3</td>\n",
       "      <td>7991562</td>\n",
       "      <td>0.888</td>\n",
       "      <td>0.000295</td>\n",
       "      <td>6.62</td>\n",
       "      <td>-4.22</td>\n",
       "      <td>1.24</td>\n",
       "      <td>PRKXP1</td>\n",
       "      <td>protein kinase, X-linked, pseudogene 1</td>\n",
       "      <td>1.24</td>\n",
       "    </tr>\n",
       "    <tr>\n",
       "      <td>4</td>\n",
       "      <td>6</td>\n",
       "      <td>7979307</td>\n",
       "      <td>0.888</td>\n",
       "      <td>0.000789</td>\n",
       "      <td>5.62</td>\n",
       "      <td>-4.24</td>\n",
       "      <td>1.79</td>\n",
       "      <td>DLGAP5</td>\n",
       "      <td>DLG associated protein 5</td>\n",
       "      <td>1.79</td>\n",
       "    </tr>\n",
       "  </tbody>\n",
       "</table>\n",
       "</div>"
      ],
      "text/plain": [
       "   index       ID  adj.P.Val   P.Value     t     B  logFC  \\\n",
       "0      0  8149116      0.888  0.000168  7.24 -4.20   2.94   \n",
       "1      1  8149126      0.888  0.000168  7.24 -4.20   2.94   \n",
       "2      2  8149137      0.888  0.000168  7.24 -4.20   2.94   \n",
       "3      3  7991562      0.888  0.000295  6.62 -4.22   1.24   \n",
       "4      6  7979307      0.888  0.000789  5.62 -4.24   1.79   \n",
       "\n",
       "              Gene.symbol                                         Gene.title  \\\n",
       "0  DEFA1B///DEFA3///DEFA1  defensin alpha 1B///defensin alpha 3///defensi...   \n",
       "1  DEFA1B///DEFA3///DEFA1  defensin alpha 1B///defensin alpha 3///defensi...   \n",
       "2  DEFA1B///DEFA3///DEFA1  defensin alpha 1B///defensin alpha 3///defensi...   \n",
       "3                  PRKXP1             protein kinase, X-linked, pseudogene 1   \n",
       "4                  DLGAP5                           DLG associated protein 5   \n",
       "\n",
       "   absolute_logFC  \n",
       "0            2.94  \n",
       "1            2.94  \n",
       "2            2.94  \n",
       "3            1.24  \n",
       "4            1.79  "
      ]
     },
     "execution_count": 45,
     "metadata": {},
     "output_type": "execute_result"
    }
   ],
   "source": [
    "df_upRegulated.head()"
   ]
  },
  {
   "cell_type": "code",
   "execution_count": 46,
   "metadata": {},
   "outputs": [],
   "source": [
    "df_upRegulated.drop(['index'],axis=1,inplace=True)"
   ]
  },
  {
   "cell_type": "code",
   "execution_count": 47,
   "metadata": {},
   "outputs": [
    {
     "data": {
      "text/html": [
       "<div>\n",
       "<style scoped>\n",
       "    .dataframe tbody tr th:only-of-type {\n",
       "        vertical-align: middle;\n",
       "    }\n",
       "\n",
       "    .dataframe tbody tr th {\n",
       "        vertical-align: top;\n",
       "    }\n",
       "\n",
       "    .dataframe thead th {\n",
       "        text-align: right;\n",
       "    }\n",
       "</style>\n",
       "<table border=\"1\" class=\"dataframe\">\n",
       "  <thead>\n",
       "    <tr style=\"text-align: right;\">\n",
       "      <th></th>\n",
       "      <th>ID</th>\n",
       "      <th>adj.P.Val</th>\n",
       "      <th>P.Value</th>\n",
       "      <th>t</th>\n",
       "      <th>B</th>\n",
       "      <th>logFC</th>\n",
       "      <th>Gene.symbol</th>\n",
       "      <th>Gene.title</th>\n",
       "      <th>absolute_logFC</th>\n",
       "    </tr>\n",
       "  </thead>\n",
       "  <tbody>\n",
       "    <tr>\n",
       "      <td>0</td>\n",
       "      <td>8149116</td>\n",
       "      <td>0.888</td>\n",
       "      <td>0.000168</td>\n",
       "      <td>7.24</td>\n",
       "      <td>-4.20</td>\n",
       "      <td>2.94</td>\n",
       "      <td>DEFA1B///DEFA3///DEFA1</td>\n",
       "      <td>defensin alpha 1B///defensin alpha 3///defensi...</td>\n",
       "      <td>2.94</td>\n",
       "    </tr>\n",
       "    <tr>\n",
       "      <td>1</td>\n",
       "      <td>8149126</td>\n",
       "      <td>0.888</td>\n",
       "      <td>0.000168</td>\n",
       "      <td>7.24</td>\n",
       "      <td>-4.20</td>\n",
       "      <td>2.94</td>\n",
       "      <td>DEFA1B///DEFA3///DEFA1</td>\n",
       "      <td>defensin alpha 1B///defensin alpha 3///defensi...</td>\n",
       "      <td>2.94</td>\n",
       "    </tr>\n",
       "    <tr>\n",
       "      <td>2</td>\n",
       "      <td>8149137</td>\n",
       "      <td>0.888</td>\n",
       "      <td>0.000168</td>\n",
       "      <td>7.24</td>\n",
       "      <td>-4.20</td>\n",
       "      <td>2.94</td>\n",
       "      <td>DEFA1B///DEFA3///DEFA1</td>\n",
       "      <td>defensin alpha 1B///defensin alpha 3///defensi...</td>\n",
       "      <td>2.94</td>\n",
       "    </tr>\n",
       "    <tr>\n",
       "      <td>3</td>\n",
       "      <td>7991562</td>\n",
       "      <td>0.888</td>\n",
       "      <td>0.000295</td>\n",
       "      <td>6.62</td>\n",
       "      <td>-4.22</td>\n",
       "      <td>1.24</td>\n",
       "      <td>PRKXP1</td>\n",
       "      <td>protein kinase, X-linked, pseudogene 1</td>\n",
       "      <td>1.24</td>\n",
       "    </tr>\n",
       "    <tr>\n",
       "      <td>4</td>\n",
       "      <td>7979307</td>\n",
       "      <td>0.888</td>\n",
       "      <td>0.000789</td>\n",
       "      <td>5.62</td>\n",
       "      <td>-4.24</td>\n",
       "      <td>1.79</td>\n",
       "      <td>DLGAP5</td>\n",
       "      <td>DLG associated protein 5</td>\n",
       "      <td>1.79</td>\n",
       "    </tr>\n",
       "  </tbody>\n",
       "</table>\n",
       "</div>"
      ],
      "text/plain": [
       "        ID  adj.P.Val   P.Value     t     B  logFC             Gene.symbol  \\\n",
       "0  8149116      0.888  0.000168  7.24 -4.20   2.94  DEFA1B///DEFA3///DEFA1   \n",
       "1  8149126      0.888  0.000168  7.24 -4.20   2.94  DEFA1B///DEFA3///DEFA1   \n",
       "2  8149137      0.888  0.000168  7.24 -4.20   2.94  DEFA1B///DEFA3///DEFA1   \n",
       "3  7991562      0.888  0.000295  6.62 -4.22   1.24                  PRKXP1   \n",
       "4  7979307      0.888  0.000789  5.62 -4.24   1.79                  DLGAP5   \n",
       "\n",
       "                                          Gene.title  absolute_logFC  \n",
       "0  defensin alpha 1B///defensin alpha 3///defensi...            2.94  \n",
       "1  defensin alpha 1B///defensin alpha 3///defensi...            2.94  \n",
       "2  defensin alpha 1B///defensin alpha 3///defensi...            2.94  \n",
       "3             protein kinase, X-linked, pseudogene 1            1.24  \n",
       "4                           DLG associated protein 5            1.79  "
      ]
     },
     "execution_count": 47,
     "metadata": {},
     "output_type": "execute_result"
    }
   ],
   "source": [
    "df_upRegulated.head()"
   ]
  },
  {
   "cell_type": "code",
   "execution_count": 48,
   "metadata": {},
   "outputs": [],
   "source": [
    "writer = pd.ExcelWriter('idiopathicPortalHypertensionDEG.xlsx',engine='xlsxwriter')"
   ]
  },
  {
   "cell_type": "code",
   "execution_count": 49,
   "metadata": {},
   "outputs": [],
   "source": [
    "df_downRegulated.to_excel(writer,sheet_name='downRegulated')"
   ]
  },
  {
   "cell_type": "code",
   "execution_count": 50,
   "metadata": {},
   "outputs": [],
   "source": [
    "df_upRegulated.to_excel(writer,sheet_name='upRegulated')"
   ]
  },
  {
   "cell_type": "code",
   "execution_count": 51,
   "metadata": {},
   "outputs": [],
   "source": [
    "writer.save()\n",
    "writer.close()"
   ]
  }
 ],
 "metadata": {
  "kernelspec": {
   "display_name": "Python 3",
   "language": "python",
   "name": "python3"
  },
  "language_info": {
   "codemirror_mode": {
    "name": "ipython",
    "version": 3
   },
   "file_extension": ".py",
   "mimetype": "text/x-python",
   "name": "python",
   "nbconvert_exporter": "python",
   "pygments_lexer": "ipython3",
   "version": "3.7.4"
  }
 },
 "nbformat": 4,
 "nbformat_minor": 2
}
