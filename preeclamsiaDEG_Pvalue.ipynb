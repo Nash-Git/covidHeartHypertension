{
 "cells": [
  {
   "cell_type": "code",
   "execution_count": 1,
   "metadata": {},
   "outputs": [],
   "source": [
    "import numpy as np\n",
    "import pandas as pd"
   ]
  },
  {
   "cell_type": "code",
   "execution_count": 2,
   "metadata": {},
   "outputs": [],
   "source": [
    "df = pd.read_excel('preeclamsiaHypertensionGSE48424.xlsx')"
   ]
  },
  {
   "cell_type": "code",
   "execution_count": 3,
   "metadata": {},
   "outputs": [
    {
     "data": {
      "text/html": [
       "<div>\n",
       "<style scoped>\n",
       "    .dataframe tbody tr th:only-of-type {\n",
       "        vertical-align: middle;\n",
       "    }\n",
       "\n",
       "    .dataframe tbody tr th {\n",
       "        vertical-align: top;\n",
       "    }\n",
       "\n",
       "    .dataframe thead th {\n",
       "        text-align: right;\n",
       "    }\n",
       "</style>\n",
       "<table border=\"1\" class=\"dataframe\">\n",
       "  <thead>\n",
       "    <tr style=\"text-align: right;\">\n",
       "      <th></th>\n",
       "      <th>ID</th>\n",
       "      <th>adj.P.Val</th>\n",
       "      <th>P.Value</th>\n",
       "      <th>t</th>\n",
       "      <th>B</th>\n",
       "      <th>logFC</th>\n",
       "      <th>Gene.symbol</th>\n",
       "      <th>Gene.title</th>\n",
       "    </tr>\n",
       "  </thead>\n",
       "  <tbody>\n",
       "    <tr>\n",
       "      <td>0</td>\n",
       "      <td>A_23_P80062</td>\n",
       "      <td>0.00586</td>\n",
       "      <td>3.170000e-07</td>\n",
       "      <td>6.225326</td>\n",
       "      <td>6.459465</td>\n",
       "      <td>0.911071</td>\n",
       "      <td>TAF4</td>\n",
       "      <td>TATA-box binding protein associated factor 4</td>\n",
       "    </tr>\n",
       "    <tr>\n",
       "      <td>1</td>\n",
       "      <td>A_32_P64990</td>\n",
       "      <td>0.00586</td>\n",
       "      <td>3.670000e-07</td>\n",
       "      <td>-6.177732</td>\n",
       "      <td>6.327744</td>\n",
       "      <td>-0.575590</td>\n",
       "      <td>NaN</td>\n",
       "      <td>NaN</td>\n",
       "    </tr>\n",
       "    <tr>\n",
       "      <td>2</td>\n",
       "      <td>A_23_P325802</td>\n",
       "      <td>0.00586</td>\n",
       "      <td>4.410000e-07</td>\n",
       "      <td>6.118760</td>\n",
       "      <td>6.164347</td>\n",
       "      <td>0.870872</td>\n",
       "      <td>USP15</td>\n",
       "      <td>ubiquitin specific peptidase 15</td>\n",
       "    </tr>\n",
       "    <tr>\n",
       "      <td>3</td>\n",
       "      <td>A_23_P206413</td>\n",
       "      <td>0.00586</td>\n",
       "      <td>5.910000e-07</td>\n",
       "      <td>-6.024602</td>\n",
       "      <td>5.903080</td>\n",
       "      <td>-0.592237</td>\n",
       "      <td>NaN</td>\n",
       "      <td>NaN</td>\n",
       "    </tr>\n",
       "    <tr>\n",
       "      <td>4</td>\n",
       "      <td>A_32_P207243</td>\n",
       "      <td>0.00586</td>\n",
       "      <td>7.680000e-07</td>\n",
       "      <td>-5.940304</td>\n",
       "      <td>5.668819</td>\n",
       "      <td>-0.814325</td>\n",
       "      <td>NaN</td>\n",
       "      <td>NaN</td>\n",
       "    </tr>\n",
       "  </tbody>\n",
       "</table>\n",
       "</div>"
      ],
      "text/plain": [
       "             ID  adj.P.Val       P.Value         t         B     logFC  \\\n",
       "0   A_23_P80062    0.00586  3.170000e-07  6.225326  6.459465  0.911071   \n",
       "1   A_32_P64990    0.00586  3.670000e-07 -6.177732  6.327744 -0.575590   \n",
       "2  A_23_P325802    0.00586  4.410000e-07  6.118760  6.164347  0.870872   \n",
       "3  A_23_P206413    0.00586  5.910000e-07 -6.024602  5.903080 -0.592237   \n",
       "4  A_32_P207243    0.00586  7.680000e-07 -5.940304  5.668819 -0.814325   \n",
       "\n",
       "  Gene.symbol                                    Gene.title  \n",
       "0        TAF4  TATA-box binding protein associated factor 4  \n",
       "1         NaN                                           NaN  \n",
       "2       USP15               ubiquitin specific peptidase 15  \n",
       "3         NaN                                           NaN  \n",
       "4         NaN                                           NaN  "
      ]
     },
     "execution_count": 3,
     "metadata": {},
     "output_type": "execute_result"
    }
   ],
   "source": [
    "df.head()"
   ]
  },
  {
   "cell_type": "code",
   "execution_count": 4,
   "metadata": {},
   "outputs": [
    {
     "data": {
      "text/plain": [
       "(41000, 8)"
      ]
     },
     "execution_count": 4,
     "metadata": {},
     "output_type": "execute_result"
    }
   ],
   "source": [
    "df.shape"
   ]
  },
  {
   "cell_type": "markdown",
   "metadata": {},
   "source": [
    "### Checking and removing null values: where Gene.symbol is null"
   ]
  },
  {
   "cell_type": "code",
   "execution_count": 5,
   "metadata": {},
   "outputs": [
    {
     "data": {
      "text/plain": [
       "ID                 0\n",
       "adj.P.Val          0\n",
       "P.Value            0\n",
       "t                  0\n",
       "B                  0\n",
       "logFC              0\n",
       "Gene.symbol    10277\n",
       "Gene.title     10277\n",
       "dtype: int64"
      ]
     },
     "execution_count": 5,
     "metadata": {},
     "output_type": "execute_result"
    }
   ],
   "source": [
    "df.isna().sum()"
   ]
  },
  {
   "cell_type": "code",
   "execution_count": 6,
   "metadata": {},
   "outputs": [],
   "source": [
    "df.dropna(inplace=True,axis=0,subset=['Gene.symbol'])"
   ]
  },
  {
   "cell_type": "code",
   "execution_count": 7,
   "metadata": {},
   "outputs": [
    {
     "data": {
      "text/plain": [
       "(30723, 8)"
      ]
     },
     "execution_count": 7,
     "metadata": {},
     "output_type": "execute_result"
    }
   ],
   "source": [
    "df.shape"
   ]
  },
  {
   "cell_type": "code",
   "execution_count": 8,
   "metadata": {},
   "outputs": [
    {
     "data": {
      "text/html": [
       "<div>\n",
       "<style scoped>\n",
       "    .dataframe tbody tr th:only-of-type {\n",
       "        vertical-align: middle;\n",
       "    }\n",
       "\n",
       "    .dataframe tbody tr th {\n",
       "        vertical-align: top;\n",
       "    }\n",
       "\n",
       "    .dataframe thead th {\n",
       "        text-align: right;\n",
       "    }\n",
       "</style>\n",
       "<table border=\"1\" class=\"dataframe\">\n",
       "  <thead>\n",
       "    <tr style=\"text-align: right;\">\n",
       "      <th></th>\n",
       "      <th>ID</th>\n",
       "      <th>adj.P.Val</th>\n",
       "      <th>P.Value</th>\n",
       "      <th>t</th>\n",
       "      <th>B</th>\n",
       "      <th>logFC</th>\n",
       "      <th>Gene.symbol</th>\n",
       "      <th>Gene.title</th>\n",
       "    </tr>\n",
       "  </thead>\n",
       "  <tbody>\n",
       "    <tr>\n",
       "      <td>0</td>\n",
       "      <td>A_23_P80062</td>\n",
       "      <td>0.00586</td>\n",
       "      <td>3.170000e-07</td>\n",
       "      <td>6.225326</td>\n",
       "      <td>6.459465</td>\n",
       "      <td>0.911071</td>\n",
       "      <td>TAF4</td>\n",
       "      <td>TATA-box binding protein associated factor 4</td>\n",
       "    </tr>\n",
       "    <tr>\n",
       "      <td>2</td>\n",
       "      <td>A_23_P325802</td>\n",
       "      <td>0.00586</td>\n",
       "      <td>4.410000e-07</td>\n",
       "      <td>6.118760</td>\n",
       "      <td>6.164347</td>\n",
       "      <td>0.870872</td>\n",
       "      <td>USP15</td>\n",
       "      <td>ubiquitin specific peptidase 15</td>\n",
       "    </tr>\n",
       "    <tr>\n",
       "      <td>5</td>\n",
       "      <td>A_23_P324718</td>\n",
       "      <td>0.00586</td>\n",
       "      <td>8.580000e-07</td>\n",
       "      <td>5.904928</td>\n",
       "      <td>5.570423</td>\n",
       "      <td>1.119439</td>\n",
       "      <td>SYNJ1</td>\n",
       "      <td>synaptojanin 1</td>\n",
       "    </tr>\n",
       "    <tr>\n",
       "      <td>6</td>\n",
       "      <td>A_23_P256526</td>\n",
       "      <td>0.00737</td>\n",
       "      <td>1.260000e-06</td>\n",
       "      <td>-5.780862</td>\n",
       "      <td>5.225014</td>\n",
       "      <td>-0.955485</td>\n",
       "      <td>ZNF80</td>\n",
       "      <td>zinc finger protein 80</td>\n",
       "    </tr>\n",
       "    <tr>\n",
       "      <td>7</td>\n",
       "      <td>A_24_P123190</td>\n",
       "      <td>0.00737</td>\n",
       "      <td>1.610000e-06</td>\n",
       "      <td>5.702846</td>\n",
       "      <td>5.007608</td>\n",
       "      <td>1.536447</td>\n",
       "      <td>PLD1</td>\n",
       "      <td>phospholipase D1</td>\n",
       "    </tr>\n",
       "  </tbody>\n",
       "</table>\n",
       "</div>"
      ],
      "text/plain": [
       "             ID  adj.P.Val       P.Value         t         B     logFC  \\\n",
       "0   A_23_P80062    0.00586  3.170000e-07  6.225326  6.459465  0.911071   \n",
       "2  A_23_P325802    0.00586  4.410000e-07  6.118760  6.164347  0.870872   \n",
       "5  A_23_P324718    0.00586  8.580000e-07  5.904928  5.570423  1.119439   \n",
       "6  A_23_P256526    0.00737  1.260000e-06 -5.780862  5.225014 -0.955485   \n",
       "7  A_24_P123190    0.00737  1.610000e-06  5.702846  5.007608  1.536447   \n",
       "\n",
       "  Gene.symbol                                    Gene.title  \n",
       "0        TAF4  TATA-box binding protein associated factor 4  \n",
       "2       USP15               ubiquitin specific peptidase 15  \n",
       "5       SYNJ1                                synaptojanin 1  \n",
       "6       ZNF80                        zinc finger protein 80  \n",
       "7        PLD1                              phospholipase D1  "
      ]
     },
     "execution_count": 8,
     "metadata": {},
     "output_type": "execute_result"
    }
   ],
   "source": [
    "df.head()"
   ]
  },
  {
   "cell_type": "markdown",
   "metadata": {},
   "source": [
    "### Consider the rows where adj.P.Val are less than 0.05"
   ]
  },
  {
   "cell_type": "code",
   "execution_count": 9,
   "metadata": {},
   "outputs": [
    {
     "data": {
      "text/plain": [
       "ID             25475\n",
       "adj.P.Val      25475\n",
       "P.Value        25475\n",
       "t              25475\n",
       "B              25475\n",
       "logFC          25475\n",
       "Gene.symbol    25475\n",
       "Gene.title     25475\n",
       "dtype: int64"
      ]
     },
     "execution_count": 9,
     "metadata": {},
     "output_type": "execute_result"
    }
   ],
   "source": [
    "#count rows where adj.P.Val are equal to or greater than 0.05\n",
    "df.loc[df['P.Value'] >= 0.05].count()"
   ]
  },
  {
   "cell_type": "code",
   "execution_count": 10,
   "metadata": {},
   "outputs": [],
   "source": [
    "#remove the rows where adj.P.Val are equal to or greater than 0.05\n",
    "index_names = df[df['P.Value'] >= 0.05].index\n",
    "df.drop(index_names, inplace=True)"
   ]
  },
  {
   "cell_type": "code",
   "execution_count": 11,
   "metadata": {},
   "outputs": [
    {
     "data": {
      "text/plain": [
       "(5248, 8)"
      ]
     },
     "execution_count": 11,
     "metadata": {},
     "output_type": "execute_result"
    }
   ],
   "source": [
    "df.shape"
   ]
  },
  {
   "cell_type": "code",
   "execution_count": 12,
   "metadata": {},
   "outputs": [
    {
     "data": {
      "text/html": [
       "<div>\n",
       "<style scoped>\n",
       "    .dataframe tbody tr th:only-of-type {\n",
       "        vertical-align: middle;\n",
       "    }\n",
       "\n",
       "    .dataframe tbody tr th {\n",
       "        vertical-align: top;\n",
       "    }\n",
       "\n",
       "    .dataframe thead th {\n",
       "        text-align: right;\n",
       "    }\n",
       "</style>\n",
       "<table border=\"1\" class=\"dataframe\">\n",
       "  <thead>\n",
       "    <tr style=\"text-align: right;\">\n",
       "      <th></th>\n",
       "      <th>ID</th>\n",
       "      <th>adj.P.Val</th>\n",
       "      <th>P.Value</th>\n",
       "      <th>t</th>\n",
       "      <th>B</th>\n",
       "      <th>logFC</th>\n",
       "      <th>Gene.symbol</th>\n",
       "      <th>Gene.title</th>\n",
       "    </tr>\n",
       "  </thead>\n",
       "  <tbody>\n",
       "    <tr>\n",
       "      <td>0</td>\n",
       "      <td>A_23_P80062</td>\n",
       "      <td>0.00586</td>\n",
       "      <td>3.170000e-07</td>\n",
       "      <td>6.225326</td>\n",
       "      <td>6.459465</td>\n",
       "      <td>0.911071</td>\n",
       "      <td>TAF4</td>\n",
       "      <td>TATA-box binding protein associated factor 4</td>\n",
       "    </tr>\n",
       "    <tr>\n",
       "      <td>2</td>\n",
       "      <td>A_23_P325802</td>\n",
       "      <td>0.00586</td>\n",
       "      <td>4.410000e-07</td>\n",
       "      <td>6.118760</td>\n",
       "      <td>6.164347</td>\n",
       "      <td>0.870872</td>\n",
       "      <td>USP15</td>\n",
       "      <td>ubiquitin specific peptidase 15</td>\n",
       "    </tr>\n",
       "    <tr>\n",
       "      <td>5</td>\n",
       "      <td>A_23_P324718</td>\n",
       "      <td>0.00586</td>\n",
       "      <td>8.580000e-07</td>\n",
       "      <td>5.904928</td>\n",
       "      <td>5.570423</td>\n",
       "      <td>1.119439</td>\n",
       "      <td>SYNJ1</td>\n",
       "      <td>synaptojanin 1</td>\n",
       "    </tr>\n",
       "    <tr>\n",
       "      <td>6</td>\n",
       "      <td>A_23_P256526</td>\n",
       "      <td>0.00737</td>\n",
       "      <td>1.260000e-06</td>\n",
       "      <td>-5.780862</td>\n",
       "      <td>5.225014</td>\n",
       "      <td>-0.955485</td>\n",
       "      <td>ZNF80</td>\n",
       "      <td>zinc finger protein 80</td>\n",
       "    </tr>\n",
       "    <tr>\n",
       "      <td>7</td>\n",
       "      <td>A_24_P123190</td>\n",
       "      <td>0.00737</td>\n",
       "      <td>1.610000e-06</td>\n",
       "      <td>5.702846</td>\n",
       "      <td>5.007608</td>\n",
       "      <td>1.536447</td>\n",
       "      <td>PLD1</td>\n",
       "      <td>phospholipase D1</td>\n",
       "    </tr>\n",
       "  </tbody>\n",
       "</table>\n",
       "</div>"
      ],
      "text/plain": [
       "             ID  adj.P.Val       P.Value         t         B     logFC  \\\n",
       "0   A_23_P80062    0.00586  3.170000e-07  6.225326  6.459465  0.911071   \n",
       "2  A_23_P325802    0.00586  4.410000e-07  6.118760  6.164347  0.870872   \n",
       "5  A_23_P324718    0.00586  8.580000e-07  5.904928  5.570423  1.119439   \n",
       "6  A_23_P256526    0.00737  1.260000e-06 -5.780862  5.225014 -0.955485   \n",
       "7  A_24_P123190    0.00737  1.610000e-06  5.702846  5.007608  1.536447   \n",
       "\n",
       "  Gene.symbol                                    Gene.title  \n",
       "0        TAF4  TATA-box binding protein associated factor 4  \n",
       "2       USP15               ubiquitin specific peptidase 15  \n",
       "5       SYNJ1                                synaptojanin 1  \n",
       "6       ZNF80                        zinc finger protein 80  \n",
       "7        PLD1                              phospholipase D1  "
      ]
     },
     "execution_count": 12,
     "metadata": {},
     "output_type": "execute_result"
    }
   ],
   "source": [
    "df.head()"
   ]
  },
  {
   "cell_type": "markdown",
   "metadata": {},
   "source": [
    "### Find the absolute values of logFC, and take the rows where absolute values of logFC >= 1"
   ]
  },
  {
   "cell_type": "code",
   "execution_count": 13,
   "metadata": {},
   "outputs": [],
   "source": [
    "df['absolute_logFC'] = df['logFC'].abs()"
   ]
  },
  {
   "cell_type": "code",
   "execution_count": 14,
   "metadata": {},
   "outputs": [
    {
     "data": {
      "text/html": [
       "<div>\n",
       "<style scoped>\n",
       "    .dataframe tbody tr th:only-of-type {\n",
       "        vertical-align: middle;\n",
       "    }\n",
       "\n",
       "    .dataframe tbody tr th {\n",
       "        vertical-align: top;\n",
       "    }\n",
       "\n",
       "    .dataframe thead th {\n",
       "        text-align: right;\n",
       "    }\n",
       "</style>\n",
       "<table border=\"1\" class=\"dataframe\">\n",
       "  <thead>\n",
       "    <tr style=\"text-align: right;\">\n",
       "      <th></th>\n",
       "      <th>ID</th>\n",
       "      <th>adj.P.Val</th>\n",
       "      <th>P.Value</th>\n",
       "      <th>t</th>\n",
       "      <th>B</th>\n",
       "      <th>logFC</th>\n",
       "      <th>Gene.symbol</th>\n",
       "      <th>Gene.title</th>\n",
       "      <th>absolute_logFC</th>\n",
       "    </tr>\n",
       "  </thead>\n",
       "  <tbody>\n",
       "    <tr>\n",
       "      <td>0</td>\n",
       "      <td>A_23_P80062</td>\n",
       "      <td>0.00586</td>\n",
       "      <td>3.170000e-07</td>\n",
       "      <td>6.225326</td>\n",
       "      <td>6.459465</td>\n",
       "      <td>0.911071</td>\n",
       "      <td>TAF4</td>\n",
       "      <td>TATA-box binding protein associated factor 4</td>\n",
       "      <td>0.911071</td>\n",
       "    </tr>\n",
       "    <tr>\n",
       "      <td>2</td>\n",
       "      <td>A_23_P325802</td>\n",
       "      <td>0.00586</td>\n",
       "      <td>4.410000e-07</td>\n",
       "      <td>6.118760</td>\n",
       "      <td>6.164347</td>\n",
       "      <td>0.870872</td>\n",
       "      <td>USP15</td>\n",
       "      <td>ubiquitin specific peptidase 15</td>\n",
       "      <td>0.870872</td>\n",
       "    </tr>\n",
       "    <tr>\n",
       "      <td>5</td>\n",
       "      <td>A_23_P324718</td>\n",
       "      <td>0.00586</td>\n",
       "      <td>8.580000e-07</td>\n",
       "      <td>5.904928</td>\n",
       "      <td>5.570423</td>\n",
       "      <td>1.119439</td>\n",
       "      <td>SYNJ1</td>\n",
       "      <td>synaptojanin 1</td>\n",
       "      <td>1.119439</td>\n",
       "    </tr>\n",
       "    <tr>\n",
       "      <td>6</td>\n",
       "      <td>A_23_P256526</td>\n",
       "      <td>0.00737</td>\n",
       "      <td>1.260000e-06</td>\n",
       "      <td>-5.780862</td>\n",
       "      <td>5.225014</td>\n",
       "      <td>-0.955485</td>\n",
       "      <td>ZNF80</td>\n",
       "      <td>zinc finger protein 80</td>\n",
       "      <td>0.955485</td>\n",
       "    </tr>\n",
       "    <tr>\n",
       "      <td>7</td>\n",
       "      <td>A_24_P123190</td>\n",
       "      <td>0.00737</td>\n",
       "      <td>1.610000e-06</td>\n",
       "      <td>5.702846</td>\n",
       "      <td>5.007608</td>\n",
       "      <td>1.536447</td>\n",
       "      <td>PLD1</td>\n",
       "      <td>phospholipase D1</td>\n",
       "      <td>1.536447</td>\n",
       "    </tr>\n",
       "  </tbody>\n",
       "</table>\n",
       "</div>"
      ],
      "text/plain": [
       "             ID  adj.P.Val       P.Value         t         B     logFC  \\\n",
       "0   A_23_P80062    0.00586  3.170000e-07  6.225326  6.459465  0.911071   \n",
       "2  A_23_P325802    0.00586  4.410000e-07  6.118760  6.164347  0.870872   \n",
       "5  A_23_P324718    0.00586  8.580000e-07  5.904928  5.570423  1.119439   \n",
       "6  A_23_P256526    0.00737  1.260000e-06 -5.780862  5.225014 -0.955485   \n",
       "7  A_24_P123190    0.00737  1.610000e-06  5.702846  5.007608  1.536447   \n",
       "\n",
       "  Gene.symbol                                    Gene.title  absolute_logFC  \n",
       "0        TAF4  TATA-box binding protein associated factor 4        0.911071  \n",
       "2       USP15               ubiquitin specific peptidase 15        0.870872  \n",
       "5       SYNJ1                                synaptojanin 1        1.119439  \n",
       "6       ZNF80                        zinc finger protein 80        0.955485  \n",
       "7        PLD1                              phospholipase D1        1.536447  "
      ]
     },
     "execution_count": 14,
     "metadata": {},
     "output_type": "execute_result"
    }
   ],
   "source": [
    "df.head()"
   ]
  },
  {
   "cell_type": "code",
   "execution_count": 15,
   "metadata": {},
   "outputs": [
    {
     "data": {
      "text/plain": [
       "ID                5107\n",
       "adj.P.Val         5107\n",
       "P.Value           5107\n",
       "t                 5107\n",
       "B                 5107\n",
       "logFC             5107\n",
       "Gene.symbol       5107\n",
       "Gene.title        5107\n",
       "absolute_logFC    5107\n",
       "dtype: int64"
      ]
     },
     "execution_count": 15,
     "metadata": {},
     "output_type": "execute_result"
    }
   ],
   "source": [
    "#count the number of rows where absolute_logGC < 1\n",
    "df[df['absolute_logFC'] < 1].count()"
   ]
  },
  {
   "cell_type": "code",
   "execution_count": 16,
   "metadata": {},
   "outputs": [],
   "source": [
    "#remove the rows where the values of absolute_logFC are less than 1\n",
    "index_names = df[df['absolute_logFC'] < 1].index\n",
    "df.drop(index_names, inplace=True)"
   ]
  },
  {
   "cell_type": "code",
   "execution_count": 17,
   "metadata": {},
   "outputs": [
    {
     "data": {
      "text/html": [
       "<div>\n",
       "<style scoped>\n",
       "    .dataframe tbody tr th:only-of-type {\n",
       "        vertical-align: middle;\n",
       "    }\n",
       "\n",
       "    .dataframe tbody tr th {\n",
       "        vertical-align: top;\n",
       "    }\n",
       "\n",
       "    .dataframe thead th {\n",
       "        text-align: right;\n",
       "    }\n",
       "</style>\n",
       "<table border=\"1\" class=\"dataframe\">\n",
       "  <thead>\n",
       "    <tr style=\"text-align: right;\">\n",
       "      <th></th>\n",
       "      <th>ID</th>\n",
       "      <th>adj.P.Val</th>\n",
       "      <th>P.Value</th>\n",
       "      <th>t</th>\n",
       "      <th>B</th>\n",
       "      <th>logFC</th>\n",
       "      <th>Gene.symbol</th>\n",
       "      <th>Gene.title</th>\n",
       "      <th>absolute_logFC</th>\n",
       "    </tr>\n",
       "  </thead>\n",
       "  <tbody>\n",
       "    <tr>\n",
       "      <td>5</td>\n",
       "      <td>A_23_P324718</td>\n",
       "      <td>0.00586</td>\n",
       "      <td>8.580000e-07</td>\n",
       "      <td>5.904928</td>\n",
       "      <td>5.570423</td>\n",
       "      <td>1.119439</td>\n",
       "      <td>SYNJ1</td>\n",
       "      <td>synaptojanin 1</td>\n",
       "      <td>1.119439</td>\n",
       "    </tr>\n",
       "    <tr>\n",
       "      <td>7</td>\n",
       "      <td>A_24_P123190</td>\n",
       "      <td>0.00737</td>\n",
       "      <td>1.610000e-06</td>\n",
       "      <td>5.702846</td>\n",
       "      <td>5.007608</td>\n",
       "      <td>1.536447</td>\n",
       "      <td>PLD1</td>\n",
       "      <td>phospholipase D1</td>\n",
       "      <td>1.536447</td>\n",
       "    </tr>\n",
       "    <tr>\n",
       "      <td>26</td>\n",
       "      <td>A_24_P191790</td>\n",
       "      <td>0.00997</td>\n",
       "      <td>6.620000e-06</td>\n",
       "      <td>5.248076</td>\n",
       "      <td>3.739782</td>\n",
       "      <td>1.670550</td>\n",
       "      <td>TMEM33</td>\n",
       "      <td>transmembrane protein 33</td>\n",
       "      <td>1.670550</td>\n",
       "    </tr>\n",
       "    <tr>\n",
       "      <td>31</td>\n",
       "      <td>A_23_P91390</td>\n",
       "      <td>0.01056</td>\n",
       "      <td>8.380000e-06</td>\n",
       "      <td>5.171775</td>\n",
       "      <td>3.527432</td>\n",
       "      <td>1.072994</td>\n",
       "      <td>THBD</td>\n",
       "      <td>thrombomodulin</td>\n",
       "      <td>1.072994</td>\n",
       "    </tr>\n",
       "    <tr>\n",
       "      <td>38</td>\n",
       "      <td>A_23_P212061</td>\n",
       "      <td>0.01065</td>\n",
       "      <td>1.010000e-05</td>\n",
       "      <td>5.110504</td>\n",
       "      <td>3.357084</td>\n",
       "      <td>1.292596</td>\n",
       "      <td>MME</td>\n",
       "      <td>membrane metallo-endopeptidase</td>\n",
       "      <td>1.292596</td>\n",
       "    </tr>\n",
       "    <tr>\n",
       "      <td>...</td>\n",
       "      <td>...</td>\n",
       "      <td>...</td>\n",
       "      <td>...</td>\n",
       "      <td>...</td>\n",
       "      <td>...</td>\n",
       "      <td>...</td>\n",
       "      <td>...</td>\n",
       "      <td>...</td>\n",
       "      <td>...</td>\n",
       "    </tr>\n",
       "    <tr>\n",
       "      <td>5492</td>\n",
       "      <td>A_23_P406025</td>\n",
       "      <td>0.25815</td>\n",
       "      <td>3.460000e-02</td>\n",
       "      <td>2.194470</td>\n",
       "      <td>-3.836905</td>\n",
       "      <td>1.301753</td>\n",
       "      <td>PRUNE2</td>\n",
       "      <td>prune homolog 2</td>\n",
       "      <td>1.301753</td>\n",
       "    </tr>\n",
       "    <tr>\n",
       "      <td>5648</td>\n",
       "      <td>A_23_P254944</td>\n",
       "      <td>0.26540</td>\n",
       "      <td>3.660000e-02</td>\n",
       "      <td>-2.169514</td>\n",
       "      <td>-3.883212</td>\n",
       "      <td>-1.291389</td>\n",
       "      <td>GSTT1</td>\n",
       "      <td>glutathione S-transferase theta 1</td>\n",
       "      <td>1.291389</td>\n",
       "    </tr>\n",
       "    <tr>\n",
       "      <td>5731</td>\n",
       "      <td>A_23_P9779</td>\n",
       "      <td>0.26834</td>\n",
       "      <td>3.750000e-02</td>\n",
       "      <td>-2.158027</td>\n",
       "      <td>-3.904392</td>\n",
       "      <td>-1.363289</td>\n",
       "      <td>IRX5</td>\n",
       "      <td>iroquois homeobox 5</td>\n",
       "      <td>1.363289</td>\n",
       "    </tr>\n",
       "    <tr>\n",
       "      <td>5841</td>\n",
       "      <td>A_24_P100382</td>\n",
       "      <td>0.27143</td>\n",
       "      <td>3.870000e-02</td>\n",
       "      <td>2.144169</td>\n",
       "      <td>-3.929829</td>\n",
       "      <td>1.000006</td>\n",
       "      <td>GK</td>\n",
       "      <td>glycerol kinase</td>\n",
       "      <td>1.000006</td>\n",
       "    </tr>\n",
       "    <tr>\n",
       "      <td>6043</td>\n",
       "      <td>A_23_P357966</td>\n",
       "      <td>0.28140</td>\n",
       "      <td>4.150000e-02</td>\n",
       "      <td>2.112421</td>\n",
       "      <td>-3.987631</td>\n",
       "      <td>1.030558</td>\n",
       "      <td>PCMTD1</td>\n",
       "      <td>protein-L-isoaspartate (D-aspartate) O-methylt...</td>\n",
       "      <td>1.030558</td>\n",
       "    </tr>\n",
       "  </tbody>\n",
       "</table>\n",
       "<p>141 rows × 9 columns</p>\n",
       "</div>"
      ],
      "text/plain": [
       "                ID  adj.P.Val       P.Value         t         B     logFC  \\\n",
       "5     A_23_P324718    0.00586  8.580000e-07  5.904928  5.570423  1.119439   \n",
       "7     A_24_P123190    0.00737  1.610000e-06  5.702846  5.007608  1.536447   \n",
       "26    A_24_P191790    0.00997  6.620000e-06  5.248076  3.739782  1.670550   \n",
       "31     A_23_P91390    0.01056  8.380000e-06  5.171775  3.527432  1.072994   \n",
       "38    A_23_P212061    0.01065  1.010000e-05  5.110504  3.357084  1.292596   \n",
       "...            ...        ...           ...       ...       ...       ...   \n",
       "5492  A_23_P406025    0.25815  3.460000e-02  2.194470 -3.836905  1.301753   \n",
       "5648  A_23_P254944    0.26540  3.660000e-02 -2.169514 -3.883212 -1.291389   \n",
       "5731    A_23_P9779    0.26834  3.750000e-02 -2.158027 -3.904392 -1.363289   \n",
       "5841  A_24_P100382    0.27143  3.870000e-02  2.144169 -3.929829  1.000006   \n",
       "6043  A_23_P357966    0.28140  4.150000e-02  2.112421 -3.987631  1.030558   \n",
       "\n",
       "     Gene.symbol                                         Gene.title  \\\n",
       "5          SYNJ1                                     synaptojanin 1   \n",
       "7           PLD1                                   phospholipase D1   \n",
       "26        TMEM33                           transmembrane protein 33   \n",
       "31          THBD                                     thrombomodulin   \n",
       "38           MME                     membrane metallo-endopeptidase   \n",
       "...          ...                                                ...   \n",
       "5492      PRUNE2                                    prune homolog 2   \n",
       "5648       GSTT1                  glutathione S-transferase theta 1   \n",
       "5731        IRX5                                iroquois homeobox 5   \n",
       "5841          GK                                    glycerol kinase   \n",
       "6043      PCMTD1  protein-L-isoaspartate (D-aspartate) O-methylt...   \n",
       "\n",
       "      absolute_logFC  \n",
       "5           1.119439  \n",
       "7           1.536447  \n",
       "26          1.670550  \n",
       "31          1.072994  \n",
       "38          1.292596  \n",
       "...              ...  \n",
       "5492        1.301753  \n",
       "5648        1.291389  \n",
       "5731        1.363289  \n",
       "5841        1.000006  \n",
       "6043        1.030558  \n",
       "\n",
       "[141 rows x 9 columns]"
      ]
     },
     "execution_count": 17,
     "metadata": {},
     "output_type": "execute_result"
    }
   ],
   "source": [
    "#pd.set_option('display.max_row',None)\n",
    "df"
   ]
  },
  {
   "cell_type": "code",
   "execution_count": 18,
   "metadata": {},
   "outputs": [
    {
     "data": {
      "text/plain": [
       "(141, 9)"
      ]
     },
     "execution_count": 18,
     "metadata": {},
     "output_type": "execute_result"
    }
   ],
   "source": [
    "df.shape"
   ]
  },
  {
   "cell_type": "markdown",
   "metadata": {},
   "source": [
    "### Differentially Expressed Genes"
   ]
  },
  {
   "cell_type": "code",
   "execution_count": 19,
   "metadata": {},
   "outputs": [
    {
     "data": {
      "text/plain": [
       "ID                32\n",
       "adj.P.Val         32\n",
       "P.Value           32\n",
       "t                 32\n",
       "B                 32\n",
       "logFC             32\n",
       "Gene.symbol       32\n",
       "Gene.title        32\n",
       "absolute_logFC    32\n",
       "dtype: int64"
      ]
     },
     "execution_count": 19,
     "metadata": {},
     "output_type": "execute_result"
    }
   ],
   "source": [
    "#number of down regulatd genes\n",
    "df.loc[df['logFC'] < 0].count()"
   ]
  },
  {
   "cell_type": "code",
   "execution_count": 20,
   "metadata": {},
   "outputs": [
    {
     "data": {
      "text/plain": [
       "ID                109\n",
       "adj.P.Val         109\n",
       "P.Value           109\n",
       "t                 109\n",
       "B                 109\n",
       "logFC             109\n",
       "Gene.symbol       109\n",
       "Gene.title        109\n",
       "absolute_logFC    109\n",
       "dtype: int64"
      ]
     },
     "execution_count": 20,
     "metadata": {},
     "output_type": "execute_result"
    }
   ],
   "source": [
    "#number of up regulated genges\n",
    "df.loc[df['logFC'] > 0].count()"
   ]
  },
  {
   "cell_type": "code",
   "execution_count": 21,
   "metadata": {},
   "outputs": [],
   "source": [
    "df_downRegulated = df.loc[df['logFC'] < 0]"
   ]
  },
  {
   "cell_type": "code",
   "execution_count": 22,
   "metadata": {},
   "outputs": [],
   "source": [
    "df_upRegulated = df.loc[df['logFC'] > 0]"
   ]
  },
  {
   "cell_type": "code",
   "execution_count": 23,
   "metadata": {},
   "outputs": [
    {
     "data": {
      "text/html": [
       "<div>\n",
       "<style scoped>\n",
       "    .dataframe tbody tr th:only-of-type {\n",
       "        vertical-align: middle;\n",
       "    }\n",
       "\n",
       "    .dataframe tbody tr th {\n",
       "        vertical-align: top;\n",
       "    }\n",
       "\n",
       "    .dataframe thead th {\n",
       "        text-align: right;\n",
       "    }\n",
       "</style>\n",
       "<table border=\"1\" class=\"dataframe\">\n",
       "  <thead>\n",
       "    <tr style=\"text-align: right;\">\n",
       "      <th></th>\n",
       "      <th>ID</th>\n",
       "      <th>adj.P.Val</th>\n",
       "      <th>P.Value</th>\n",
       "      <th>t</th>\n",
       "      <th>B</th>\n",
       "      <th>logFC</th>\n",
       "      <th>Gene.symbol</th>\n",
       "      <th>Gene.title</th>\n",
       "      <th>absolute_logFC</th>\n",
       "    </tr>\n",
       "  </thead>\n",
       "  <tbody>\n",
       "    <tr>\n",
       "      <td>133</td>\n",
       "      <td>A_23_P348257</td>\n",
       "      <td>0.01988</td>\n",
       "      <td>0.000066</td>\n",
       "      <td>-4.501782</td>\n",
       "      <td>1.679898</td>\n",
       "      <td>-1.251253</td>\n",
       "      <td>NUAK1</td>\n",
       "      <td>NUAK family kinase 1</td>\n",
       "      <td>1.251253</td>\n",
       "    </tr>\n",
       "    <tr>\n",
       "      <td>198</td>\n",
       "      <td>A_32_P159989</td>\n",
       "      <td>0.02280</td>\n",
       "      <td>0.000112</td>\n",
       "      <td>-4.324853</td>\n",
       "      <td>1.200479</td>\n",
       "      <td>-1.012997</td>\n",
       "      <td>NKAPP1</td>\n",
       "      <td>NFKB activating protein pseudogene 1</td>\n",
       "      <td>1.012997</td>\n",
       "    </tr>\n",
       "    <tr>\n",
       "      <td>242</td>\n",
       "      <td>A_23_P145657</td>\n",
       "      <td>0.02528</td>\n",
       "      <td>0.000150</td>\n",
       "      <td>-4.226515</td>\n",
       "      <td>0.936227</td>\n",
       "      <td>-1.002613</td>\n",
       "      <td>STAG3</td>\n",
       "      <td>stromal antigen 3</td>\n",
       "      <td>1.002613</td>\n",
       "    </tr>\n",
       "    <tr>\n",
       "      <td>268</td>\n",
       "      <td>A_23_P100022</td>\n",
       "      <td>0.02685</td>\n",
       "      <td>0.000177</td>\n",
       "      <td>-4.169680</td>\n",
       "      <td>0.784305</td>\n",
       "      <td>-1.143446</td>\n",
       "      <td>SV2B</td>\n",
       "      <td>synaptic vesicle glycoprotein 2B</td>\n",
       "      <td>1.143446</td>\n",
       "    </tr>\n",
       "    <tr>\n",
       "      <td>327</td>\n",
       "      <td>A_24_P922261</td>\n",
       "      <td>0.02984</td>\n",
       "      <td>0.000239</td>\n",
       "      <td>-4.069737</td>\n",
       "      <td>0.518707</td>\n",
       "      <td>-1.295070</td>\n",
       "      <td>SRGAP1</td>\n",
       "      <td>SLIT-ROBO Rho GTPase activating protein 1</td>\n",
       "      <td>1.295070</td>\n",
       "    </tr>\n",
       "  </tbody>\n",
       "</table>\n",
       "</div>"
      ],
      "text/plain": [
       "               ID  adj.P.Val   P.Value         t         B     logFC  \\\n",
       "133  A_23_P348257    0.01988  0.000066 -4.501782  1.679898 -1.251253   \n",
       "198  A_32_P159989    0.02280  0.000112 -4.324853  1.200479 -1.012997   \n",
       "242  A_23_P145657    0.02528  0.000150 -4.226515  0.936227 -1.002613   \n",
       "268  A_23_P100022    0.02685  0.000177 -4.169680  0.784305 -1.143446   \n",
       "327  A_24_P922261    0.02984  0.000239 -4.069737  0.518707 -1.295070   \n",
       "\n",
       "    Gene.symbol                                 Gene.title  absolute_logFC  \n",
       "133       NUAK1                       NUAK family kinase 1        1.251253  \n",
       "198      NKAPP1       NFKB activating protein pseudogene 1        1.012997  \n",
       "242       STAG3                          stromal antigen 3        1.002613  \n",
       "268        SV2B           synaptic vesicle glycoprotein 2B        1.143446  \n",
       "327      SRGAP1  SLIT-ROBO Rho GTPase activating protein 1        1.295070  "
      ]
     },
     "execution_count": 23,
     "metadata": {},
     "output_type": "execute_result"
    }
   ],
   "source": [
    "df_downRegulated.head()"
   ]
  },
  {
   "cell_type": "code",
   "execution_count": 24,
   "metadata": {},
   "outputs": [
    {
     "data": {
      "text/html": [
       "<div>\n",
       "<style scoped>\n",
       "    .dataframe tbody tr th:only-of-type {\n",
       "        vertical-align: middle;\n",
       "    }\n",
       "\n",
       "    .dataframe tbody tr th {\n",
       "        vertical-align: top;\n",
       "    }\n",
       "\n",
       "    .dataframe thead th {\n",
       "        text-align: right;\n",
       "    }\n",
       "</style>\n",
       "<table border=\"1\" class=\"dataframe\">\n",
       "  <thead>\n",
       "    <tr style=\"text-align: right;\">\n",
       "      <th></th>\n",
       "      <th>ID</th>\n",
       "      <th>adj.P.Val</th>\n",
       "      <th>P.Value</th>\n",
       "      <th>t</th>\n",
       "      <th>B</th>\n",
       "      <th>logFC</th>\n",
       "      <th>Gene.symbol</th>\n",
       "      <th>Gene.title</th>\n",
       "      <th>absolute_logFC</th>\n",
       "    </tr>\n",
       "  </thead>\n",
       "  <tbody>\n",
       "    <tr>\n",
       "      <td>5</td>\n",
       "      <td>A_23_P324718</td>\n",
       "      <td>0.00586</td>\n",
       "      <td>8.580000e-07</td>\n",
       "      <td>5.904928</td>\n",
       "      <td>5.570423</td>\n",
       "      <td>1.119439</td>\n",
       "      <td>SYNJ1</td>\n",
       "      <td>synaptojanin 1</td>\n",
       "      <td>1.119439</td>\n",
       "    </tr>\n",
       "    <tr>\n",
       "      <td>7</td>\n",
       "      <td>A_24_P123190</td>\n",
       "      <td>0.00737</td>\n",
       "      <td>1.610000e-06</td>\n",
       "      <td>5.702846</td>\n",
       "      <td>5.007608</td>\n",
       "      <td>1.536447</td>\n",
       "      <td>PLD1</td>\n",
       "      <td>phospholipase D1</td>\n",
       "      <td>1.536447</td>\n",
       "    </tr>\n",
       "    <tr>\n",
       "      <td>26</td>\n",
       "      <td>A_24_P191790</td>\n",
       "      <td>0.00997</td>\n",
       "      <td>6.620000e-06</td>\n",
       "      <td>5.248076</td>\n",
       "      <td>3.739782</td>\n",
       "      <td>1.670550</td>\n",
       "      <td>TMEM33</td>\n",
       "      <td>transmembrane protein 33</td>\n",
       "      <td>1.670550</td>\n",
       "    </tr>\n",
       "    <tr>\n",
       "      <td>31</td>\n",
       "      <td>A_23_P91390</td>\n",
       "      <td>0.01056</td>\n",
       "      <td>8.380000e-06</td>\n",
       "      <td>5.171775</td>\n",
       "      <td>3.527432</td>\n",
       "      <td>1.072994</td>\n",
       "      <td>THBD</td>\n",
       "      <td>thrombomodulin</td>\n",
       "      <td>1.072994</td>\n",
       "    </tr>\n",
       "    <tr>\n",
       "      <td>38</td>\n",
       "      <td>A_23_P212061</td>\n",
       "      <td>0.01065</td>\n",
       "      <td>1.010000e-05</td>\n",
       "      <td>5.110504</td>\n",
       "      <td>3.357084</td>\n",
       "      <td>1.292596</td>\n",
       "      <td>MME</td>\n",
       "      <td>membrane metallo-endopeptidase</td>\n",
       "      <td>1.292596</td>\n",
       "    </tr>\n",
       "  </tbody>\n",
       "</table>\n",
       "</div>"
      ],
      "text/plain": [
       "              ID  adj.P.Val       P.Value         t         B     logFC  \\\n",
       "5   A_23_P324718    0.00586  8.580000e-07  5.904928  5.570423  1.119439   \n",
       "7   A_24_P123190    0.00737  1.610000e-06  5.702846  5.007608  1.536447   \n",
       "26  A_24_P191790    0.00997  6.620000e-06  5.248076  3.739782  1.670550   \n",
       "31   A_23_P91390    0.01056  8.380000e-06  5.171775  3.527432  1.072994   \n",
       "38  A_23_P212061    0.01065  1.010000e-05  5.110504  3.357084  1.292596   \n",
       "\n",
       "   Gene.symbol                      Gene.title  absolute_logFC  \n",
       "5        SYNJ1                  synaptojanin 1        1.119439  \n",
       "7         PLD1                phospholipase D1        1.536447  \n",
       "26      TMEM33        transmembrane protein 33        1.670550  \n",
       "31        THBD                  thrombomodulin        1.072994  \n",
       "38         MME  membrane metallo-endopeptidase        1.292596  "
      ]
     },
     "execution_count": 24,
     "metadata": {},
     "output_type": "execute_result"
    }
   ],
   "source": [
    "df_upRegulated.head()"
   ]
  },
  {
   "cell_type": "code",
   "execution_count": 25,
   "metadata": {},
   "outputs": [
    {
     "data": {
      "text/plain": [
       "30"
      ]
     },
     "execution_count": 25,
     "metadata": {},
     "output_type": "execute_result"
    }
   ],
   "source": [
    "df_downRegulated['Gene.symbol'].nunique()"
   ]
  },
  {
   "cell_type": "code",
   "execution_count": 26,
   "metadata": {},
   "outputs": [
    {
     "data": {
      "text/plain": [
       "array(['NUAK1', 'NKAPP1', 'STAG3', 'SV2B', 'SRGAP1', 'MACROD2', 'ZC2HC1A',\n",
       "       'PLEKHN1', 'FRMD4A', 'FAM107A', 'TMEM245', 'ZDHHC21', 'GZMH',\n",
       "       'VSIG4', 'LOC100507103', 'CA12', 'AIF1L', 'GLIPR1L2', 'HRK',\n",
       "       'RNASE1', 'GSTM3', 'TRGV7', 'FN1', 'LOC283454', 'CABP7', 'DNAH7',\n",
       "       'FNBP1L', 'BNC2', 'GSTT1', 'IRX5'], dtype=object)"
      ]
     },
     "execution_count": 26,
     "metadata": {},
     "output_type": "execute_result"
    }
   ],
   "source": [
    "df_downRegulated['Gene.symbol'].unique()"
   ]
  },
  {
   "cell_type": "code",
   "execution_count": 27,
   "metadata": {},
   "outputs": [
    {
     "data": {
      "text/plain": [
       "102"
      ]
     },
     "execution_count": 27,
     "metadata": {},
     "output_type": "execute_result"
    }
   ],
   "source": [
    "df_upRegulated['Gene.symbol'].nunique()"
   ]
  },
  {
   "cell_type": "code",
   "execution_count": 28,
   "metadata": {},
   "outputs": [
    {
     "data": {
      "text/plain": [
       "array(['SYNJ1', 'PLD1', 'TMEM33', 'THBD', 'MME', 'PRKAR1A', 'PROSER2',\n",
       "       'TMEM165', 'CCR1', 'PELI1', 'PHC3', 'TMEM87B', 'NAMPT', 'CCNG2',\n",
       "       'F2RL1', 'OSBPL8', 'TMEM30A', 'CD46', 'TLR4', 'C9orf72', 'GCA',\n",
       "       'DOCK4', 'PPM1B', 'ARHGAP6', 'PTP4A1', 'CXCL6', 'PTGS2', 'CPEB2',\n",
       "       'EXOC5', 'LOC100288675', 'GUCY1B3', 'MAP4K3', 'RHOT1', 'PPM1H',\n",
       "       'HDC', 'LOC389831', 'DKFZP434I0714', 'GCH1', 'PHIP', 'WLS',\n",
       "       'GSKIP', 'RPRD1A', 'CCNT2', 'SLC18A2', 'ARL13B', 'ABCC5', 'SCML1',\n",
       "       'COL4A3', 'ATP11A', 'SPDYE1', 'SENP7', 'NRP1', 'ZNF711', 'CNTLN',\n",
       "       'KLF5', 'LOC643441', 'LMAN1', 'CHI3L1', 'MGAM', 'FAM199X',\n",
       "       'SLC37A3', 'CUX2', 'TIFA', 'ZBTB18', 'KCNS1', 'MS4A2', 'KLHL2',\n",
       "       'CASC4', 'NHS', 'HOOK1', 'FAM126B', 'SLC4A10', 'CASD1', 'CPSF6',\n",
       "       'MPZL2', 'AVPR1A', 'PLA2G7', 'LINC00189', 'NCOA2', 'LINC00662',\n",
       "       'SPAG1', 'CXCL5', 'RIPK4', 'GPR20', 'SNX16', 'ADAMTS16', 'BEND2',\n",
       "       'PROSER2-AS1', 'USP32P1', 'ALOX15', 'GALC', 'LRRN1', 'OR2T8',\n",
       "       'SLC28A3', 'FLJ42393', 'SYCP2', 'ST20-AS1', 'RFPL1S', 'KAZN',\n",
       "       'PRUNE2', 'GK', 'PCMTD1'], dtype=object)"
      ]
     },
     "execution_count": 28,
     "metadata": {},
     "output_type": "execute_result"
    }
   ],
   "source": [
    "df_upRegulated['Gene.symbol'].unique()"
   ]
  },
  {
   "cell_type": "code",
   "execution_count": 29,
   "metadata": {},
   "outputs": [],
   "source": [
    "df_downRegulated.reset_index(inplace=True)"
   ]
  },
  {
   "cell_type": "code",
   "execution_count": 30,
   "metadata": {},
   "outputs": [],
   "source": [
    "df_upRegulated.reset_index(inplace=True)"
   ]
  },
  {
   "cell_type": "code",
   "execution_count": 31,
   "metadata": {},
   "outputs": [
    {
     "data": {
      "text/html": [
       "<div>\n",
       "<style scoped>\n",
       "    .dataframe tbody tr th:only-of-type {\n",
       "        vertical-align: middle;\n",
       "    }\n",
       "\n",
       "    .dataframe tbody tr th {\n",
       "        vertical-align: top;\n",
       "    }\n",
       "\n",
       "    .dataframe thead th {\n",
       "        text-align: right;\n",
       "    }\n",
       "</style>\n",
       "<table border=\"1\" class=\"dataframe\">\n",
       "  <thead>\n",
       "    <tr style=\"text-align: right;\">\n",
       "      <th></th>\n",
       "      <th>index</th>\n",
       "      <th>ID</th>\n",
       "      <th>adj.P.Val</th>\n",
       "      <th>P.Value</th>\n",
       "      <th>t</th>\n",
       "      <th>B</th>\n",
       "      <th>logFC</th>\n",
       "      <th>Gene.symbol</th>\n",
       "      <th>Gene.title</th>\n",
       "      <th>absolute_logFC</th>\n",
       "    </tr>\n",
       "  </thead>\n",
       "  <tbody>\n",
       "    <tr>\n",
       "      <td>0</td>\n",
       "      <td>133</td>\n",
       "      <td>A_23_P348257</td>\n",
       "      <td>0.01988</td>\n",
       "      <td>0.000066</td>\n",
       "      <td>-4.501782</td>\n",
       "      <td>1.679898</td>\n",
       "      <td>-1.251253</td>\n",
       "      <td>NUAK1</td>\n",
       "      <td>NUAK family kinase 1</td>\n",
       "      <td>1.251253</td>\n",
       "    </tr>\n",
       "    <tr>\n",
       "      <td>1</td>\n",
       "      <td>198</td>\n",
       "      <td>A_32_P159989</td>\n",
       "      <td>0.02280</td>\n",
       "      <td>0.000112</td>\n",
       "      <td>-4.324853</td>\n",
       "      <td>1.200479</td>\n",
       "      <td>-1.012997</td>\n",
       "      <td>NKAPP1</td>\n",
       "      <td>NFKB activating protein pseudogene 1</td>\n",
       "      <td>1.012997</td>\n",
       "    </tr>\n",
       "    <tr>\n",
       "      <td>2</td>\n",
       "      <td>242</td>\n",
       "      <td>A_23_P145657</td>\n",
       "      <td>0.02528</td>\n",
       "      <td>0.000150</td>\n",
       "      <td>-4.226515</td>\n",
       "      <td>0.936227</td>\n",
       "      <td>-1.002613</td>\n",
       "      <td>STAG3</td>\n",
       "      <td>stromal antigen 3</td>\n",
       "      <td>1.002613</td>\n",
       "    </tr>\n",
       "    <tr>\n",
       "      <td>3</td>\n",
       "      <td>268</td>\n",
       "      <td>A_23_P100022</td>\n",
       "      <td>0.02685</td>\n",
       "      <td>0.000177</td>\n",
       "      <td>-4.169680</td>\n",
       "      <td>0.784305</td>\n",
       "      <td>-1.143446</td>\n",
       "      <td>SV2B</td>\n",
       "      <td>synaptic vesicle glycoprotein 2B</td>\n",
       "      <td>1.143446</td>\n",
       "    </tr>\n",
       "    <tr>\n",
       "      <td>4</td>\n",
       "      <td>327</td>\n",
       "      <td>A_24_P922261</td>\n",
       "      <td>0.02984</td>\n",
       "      <td>0.000239</td>\n",
       "      <td>-4.069737</td>\n",
       "      <td>0.518707</td>\n",
       "      <td>-1.295070</td>\n",
       "      <td>SRGAP1</td>\n",
       "      <td>SLIT-ROBO Rho GTPase activating protein 1</td>\n",
       "      <td>1.295070</td>\n",
       "    </tr>\n",
       "  </tbody>\n",
       "</table>\n",
       "</div>"
      ],
      "text/plain": [
       "   index            ID  adj.P.Val   P.Value         t         B     logFC  \\\n",
       "0    133  A_23_P348257    0.01988  0.000066 -4.501782  1.679898 -1.251253   \n",
       "1    198  A_32_P159989    0.02280  0.000112 -4.324853  1.200479 -1.012997   \n",
       "2    242  A_23_P145657    0.02528  0.000150 -4.226515  0.936227 -1.002613   \n",
       "3    268  A_23_P100022    0.02685  0.000177 -4.169680  0.784305 -1.143446   \n",
       "4    327  A_24_P922261    0.02984  0.000239 -4.069737  0.518707 -1.295070   \n",
       "\n",
       "  Gene.symbol                                 Gene.title  absolute_logFC  \n",
       "0       NUAK1                       NUAK family kinase 1        1.251253  \n",
       "1      NKAPP1       NFKB activating protein pseudogene 1        1.012997  \n",
       "2       STAG3                          stromal antigen 3        1.002613  \n",
       "3        SV2B           synaptic vesicle glycoprotein 2B        1.143446  \n",
       "4      SRGAP1  SLIT-ROBO Rho GTPase activating protein 1        1.295070  "
      ]
     },
     "execution_count": 31,
     "metadata": {},
     "output_type": "execute_result"
    }
   ],
   "source": [
    "df_downRegulated.head()"
   ]
  },
  {
   "cell_type": "code",
   "execution_count": 32,
   "metadata": {},
   "outputs": [
    {
     "name": "stderr",
     "output_type": "stream",
     "text": [
      "C:\\Users\\asifn\\Anaconda3\\lib\\site-packages\\pandas\\core\\frame.py:4102: SettingWithCopyWarning: \n",
      "A value is trying to be set on a copy of a slice from a DataFrame\n",
      "\n",
      "See the caveats in the documentation: http://pandas.pydata.org/pandas-docs/stable/user_guide/indexing.html#returning-a-view-versus-a-copy\n",
      "  errors=errors,\n"
     ]
    }
   ],
   "source": [
    "df_downRegulated.drop(['index'],axis=1,inplace=True)"
   ]
  },
  {
   "cell_type": "code",
   "execution_count": 33,
   "metadata": {},
   "outputs": [
    {
     "data": {
      "text/html": [
       "<div>\n",
       "<style scoped>\n",
       "    .dataframe tbody tr th:only-of-type {\n",
       "        vertical-align: middle;\n",
       "    }\n",
       "\n",
       "    .dataframe tbody tr th {\n",
       "        vertical-align: top;\n",
       "    }\n",
       "\n",
       "    .dataframe thead th {\n",
       "        text-align: right;\n",
       "    }\n",
       "</style>\n",
       "<table border=\"1\" class=\"dataframe\">\n",
       "  <thead>\n",
       "    <tr style=\"text-align: right;\">\n",
       "      <th></th>\n",
       "      <th>index</th>\n",
       "      <th>ID</th>\n",
       "      <th>adj.P.Val</th>\n",
       "      <th>P.Value</th>\n",
       "      <th>t</th>\n",
       "      <th>B</th>\n",
       "      <th>logFC</th>\n",
       "      <th>Gene.symbol</th>\n",
       "      <th>Gene.title</th>\n",
       "      <th>absolute_logFC</th>\n",
       "    </tr>\n",
       "  </thead>\n",
       "  <tbody>\n",
       "    <tr>\n",
       "      <td>0</td>\n",
       "      <td>5</td>\n",
       "      <td>A_23_P324718</td>\n",
       "      <td>0.00586</td>\n",
       "      <td>8.580000e-07</td>\n",
       "      <td>5.904928</td>\n",
       "      <td>5.570423</td>\n",
       "      <td>1.119439</td>\n",
       "      <td>SYNJ1</td>\n",
       "      <td>synaptojanin 1</td>\n",
       "      <td>1.119439</td>\n",
       "    </tr>\n",
       "    <tr>\n",
       "      <td>1</td>\n",
       "      <td>7</td>\n",
       "      <td>A_24_P123190</td>\n",
       "      <td>0.00737</td>\n",
       "      <td>1.610000e-06</td>\n",
       "      <td>5.702846</td>\n",
       "      <td>5.007608</td>\n",
       "      <td>1.536447</td>\n",
       "      <td>PLD1</td>\n",
       "      <td>phospholipase D1</td>\n",
       "      <td>1.536447</td>\n",
       "    </tr>\n",
       "    <tr>\n",
       "      <td>2</td>\n",
       "      <td>26</td>\n",
       "      <td>A_24_P191790</td>\n",
       "      <td>0.00997</td>\n",
       "      <td>6.620000e-06</td>\n",
       "      <td>5.248076</td>\n",
       "      <td>3.739782</td>\n",
       "      <td>1.670550</td>\n",
       "      <td>TMEM33</td>\n",
       "      <td>transmembrane protein 33</td>\n",
       "      <td>1.670550</td>\n",
       "    </tr>\n",
       "    <tr>\n",
       "      <td>3</td>\n",
       "      <td>31</td>\n",
       "      <td>A_23_P91390</td>\n",
       "      <td>0.01056</td>\n",
       "      <td>8.380000e-06</td>\n",
       "      <td>5.171775</td>\n",
       "      <td>3.527432</td>\n",
       "      <td>1.072994</td>\n",
       "      <td>THBD</td>\n",
       "      <td>thrombomodulin</td>\n",
       "      <td>1.072994</td>\n",
       "    </tr>\n",
       "    <tr>\n",
       "      <td>4</td>\n",
       "      <td>38</td>\n",
       "      <td>A_23_P212061</td>\n",
       "      <td>0.01065</td>\n",
       "      <td>1.010000e-05</td>\n",
       "      <td>5.110504</td>\n",
       "      <td>3.357084</td>\n",
       "      <td>1.292596</td>\n",
       "      <td>MME</td>\n",
       "      <td>membrane metallo-endopeptidase</td>\n",
       "      <td>1.292596</td>\n",
       "    </tr>\n",
       "  </tbody>\n",
       "</table>\n",
       "</div>"
      ],
      "text/plain": [
       "   index            ID  adj.P.Val       P.Value         t         B     logFC  \\\n",
       "0      5  A_23_P324718    0.00586  8.580000e-07  5.904928  5.570423  1.119439   \n",
       "1      7  A_24_P123190    0.00737  1.610000e-06  5.702846  5.007608  1.536447   \n",
       "2     26  A_24_P191790    0.00997  6.620000e-06  5.248076  3.739782  1.670550   \n",
       "3     31   A_23_P91390    0.01056  8.380000e-06  5.171775  3.527432  1.072994   \n",
       "4     38  A_23_P212061    0.01065  1.010000e-05  5.110504  3.357084  1.292596   \n",
       "\n",
       "  Gene.symbol                      Gene.title  absolute_logFC  \n",
       "0       SYNJ1                  synaptojanin 1        1.119439  \n",
       "1        PLD1                phospholipase D1        1.536447  \n",
       "2      TMEM33        transmembrane protein 33        1.670550  \n",
       "3        THBD                  thrombomodulin        1.072994  \n",
       "4         MME  membrane metallo-endopeptidase        1.292596  "
      ]
     },
     "execution_count": 33,
     "metadata": {},
     "output_type": "execute_result"
    }
   ],
   "source": [
    "df_upRegulated.head()"
   ]
  },
  {
   "cell_type": "code",
   "execution_count": 34,
   "metadata": {},
   "outputs": [],
   "source": [
    "df_upRegulated.drop(['index'],axis=1,inplace=True)"
   ]
  },
  {
   "cell_type": "code",
   "execution_count": 35,
   "metadata": {},
   "outputs": [
    {
     "data": {
      "text/html": [
       "<div>\n",
       "<style scoped>\n",
       "    .dataframe tbody tr th:only-of-type {\n",
       "        vertical-align: middle;\n",
       "    }\n",
       "\n",
       "    .dataframe tbody tr th {\n",
       "        vertical-align: top;\n",
       "    }\n",
       "\n",
       "    .dataframe thead th {\n",
       "        text-align: right;\n",
       "    }\n",
       "</style>\n",
       "<table border=\"1\" class=\"dataframe\">\n",
       "  <thead>\n",
       "    <tr style=\"text-align: right;\">\n",
       "      <th></th>\n",
       "      <th>ID</th>\n",
       "      <th>adj.P.Val</th>\n",
       "      <th>P.Value</th>\n",
       "      <th>t</th>\n",
       "      <th>B</th>\n",
       "      <th>logFC</th>\n",
       "      <th>Gene.symbol</th>\n",
       "      <th>Gene.title</th>\n",
       "      <th>absolute_logFC</th>\n",
       "    </tr>\n",
       "  </thead>\n",
       "  <tbody>\n",
       "    <tr>\n",
       "      <td>0</td>\n",
       "      <td>A_23_P324718</td>\n",
       "      <td>0.00586</td>\n",
       "      <td>8.580000e-07</td>\n",
       "      <td>5.904928</td>\n",
       "      <td>5.570423</td>\n",
       "      <td>1.119439</td>\n",
       "      <td>SYNJ1</td>\n",
       "      <td>synaptojanin 1</td>\n",
       "      <td>1.119439</td>\n",
       "    </tr>\n",
       "    <tr>\n",
       "      <td>1</td>\n",
       "      <td>A_24_P123190</td>\n",
       "      <td>0.00737</td>\n",
       "      <td>1.610000e-06</td>\n",
       "      <td>5.702846</td>\n",
       "      <td>5.007608</td>\n",
       "      <td>1.536447</td>\n",
       "      <td>PLD1</td>\n",
       "      <td>phospholipase D1</td>\n",
       "      <td>1.536447</td>\n",
       "    </tr>\n",
       "    <tr>\n",
       "      <td>2</td>\n",
       "      <td>A_24_P191790</td>\n",
       "      <td>0.00997</td>\n",
       "      <td>6.620000e-06</td>\n",
       "      <td>5.248076</td>\n",
       "      <td>3.739782</td>\n",
       "      <td>1.670550</td>\n",
       "      <td>TMEM33</td>\n",
       "      <td>transmembrane protein 33</td>\n",
       "      <td>1.670550</td>\n",
       "    </tr>\n",
       "    <tr>\n",
       "      <td>3</td>\n",
       "      <td>A_23_P91390</td>\n",
       "      <td>0.01056</td>\n",
       "      <td>8.380000e-06</td>\n",
       "      <td>5.171775</td>\n",
       "      <td>3.527432</td>\n",
       "      <td>1.072994</td>\n",
       "      <td>THBD</td>\n",
       "      <td>thrombomodulin</td>\n",
       "      <td>1.072994</td>\n",
       "    </tr>\n",
       "    <tr>\n",
       "      <td>4</td>\n",
       "      <td>A_23_P212061</td>\n",
       "      <td>0.01065</td>\n",
       "      <td>1.010000e-05</td>\n",
       "      <td>5.110504</td>\n",
       "      <td>3.357084</td>\n",
       "      <td>1.292596</td>\n",
       "      <td>MME</td>\n",
       "      <td>membrane metallo-endopeptidase</td>\n",
       "      <td>1.292596</td>\n",
       "    </tr>\n",
       "  </tbody>\n",
       "</table>\n",
       "</div>"
      ],
      "text/plain": [
       "             ID  adj.P.Val       P.Value         t         B     logFC  \\\n",
       "0  A_23_P324718    0.00586  8.580000e-07  5.904928  5.570423  1.119439   \n",
       "1  A_24_P123190    0.00737  1.610000e-06  5.702846  5.007608  1.536447   \n",
       "2  A_24_P191790    0.00997  6.620000e-06  5.248076  3.739782  1.670550   \n",
       "3   A_23_P91390    0.01056  8.380000e-06  5.171775  3.527432  1.072994   \n",
       "4  A_23_P212061    0.01065  1.010000e-05  5.110504  3.357084  1.292596   \n",
       "\n",
       "  Gene.symbol                      Gene.title  absolute_logFC  \n",
       "0       SYNJ1                  synaptojanin 1        1.119439  \n",
       "1        PLD1                phospholipase D1        1.536447  \n",
       "2      TMEM33        transmembrane protein 33        1.670550  \n",
       "3        THBD                  thrombomodulin        1.072994  \n",
       "4         MME  membrane metallo-endopeptidase        1.292596  "
      ]
     },
     "execution_count": 35,
     "metadata": {},
     "output_type": "execute_result"
    }
   ],
   "source": [
    "df_upRegulated.head()"
   ]
  },
  {
   "cell_type": "code",
   "execution_count": 36,
   "metadata": {},
   "outputs": [],
   "source": [
    "writer = pd.ExcelWriter('preeclamsiaGSE48424DEG_Pvalue.xlsx',engine='xlsxwriter')"
   ]
  },
  {
   "cell_type": "code",
   "execution_count": 37,
   "metadata": {},
   "outputs": [],
   "source": [
    "df_downRegulated.to_excel(writer,sheet_name='downRegulated')"
   ]
  },
  {
   "cell_type": "code",
   "execution_count": 38,
   "metadata": {},
   "outputs": [],
   "source": [
    "df_upRegulated.to_excel(writer,sheet_name='upRegulated')"
   ]
  },
  {
   "cell_type": "code",
   "execution_count": 39,
   "metadata": {},
   "outputs": [],
   "source": [
    "writer.save()\n",
    "writer.close()"
   ]
  }
 ],
 "metadata": {
  "kernelspec": {
   "display_name": "Python 3",
   "language": "python",
   "name": "python3"
  },
  "language_info": {
   "codemirror_mode": {
    "name": "ipython",
    "version": 3
   },
   "file_extension": ".py",
   "mimetype": "text/x-python",
   "name": "python",
   "nbconvert_exporter": "python",
   "pygments_lexer": "ipython3",
   "version": "3.7.4"
  }
 },
 "nbformat": 4,
 "nbformat_minor": 2
}
