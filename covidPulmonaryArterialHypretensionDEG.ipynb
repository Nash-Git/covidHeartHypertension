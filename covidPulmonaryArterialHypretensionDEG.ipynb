{
 "cells": [
  {
   "cell_type": "markdown",
   "metadata": {},
   "source": [
    "## Common DEGs between Pulmonary Arterial Hypertension and Covid Patients"
   ]
  },
  {
   "cell_type": "code",
   "execution_count": 1,
   "metadata": {},
   "outputs": [],
   "source": [
    "import numpy as np\n",
    "import pandas as pd"
   ]
  },
  {
   "cell_type": "code",
   "execution_count": 2,
   "metadata": {},
   "outputs": [],
   "source": [
    "df_PAH_down = pd.read_excel('pulmonaryHypertensionDEG_Pvalue.xlsx',sheet_name='downRegulated')"
   ]
  },
  {
   "cell_type": "code",
   "execution_count": 3,
   "metadata": {},
   "outputs": [
    {
     "data": {
      "text/html": [
       "<div>\n",
       "<style scoped>\n",
       "    .dataframe tbody tr th:only-of-type {\n",
       "        vertical-align: middle;\n",
       "    }\n",
       "\n",
       "    .dataframe tbody tr th {\n",
       "        vertical-align: top;\n",
       "    }\n",
       "\n",
       "    .dataframe thead th {\n",
       "        text-align: right;\n",
       "    }\n",
       "</style>\n",
       "<table border=\"1\" class=\"dataframe\">\n",
       "  <thead>\n",
       "    <tr style=\"text-align: right;\">\n",
       "      <th></th>\n",
       "      <th>Unnamed: 0</th>\n",
       "      <th>ID</th>\n",
       "      <th>adj.P.Val</th>\n",
       "      <th>P.Value</th>\n",
       "      <th>t</th>\n",
       "      <th>B</th>\n",
       "      <th>logFC</th>\n",
       "      <th>GeneName</th>\n",
       "      <th>SPOT_ID</th>\n",
       "      <th>absolute_logFC</th>\n",
       "    </tr>\n",
       "  </thead>\n",
       "  <tbody>\n",
       "    <tr>\n",
       "      <td>0</td>\n",
       "      <td>0</td>\n",
       "      <td>7768</td>\n",
       "      <td>2.740000e-07</td>\n",
       "      <td>2.900000e-10</td>\n",
       "      <td>-8.160224</td>\n",
       "      <td>13.325090</td>\n",
       "      <td>-1.047996</td>\n",
       "      <td>LHFPL2</td>\n",
       "      <td>NaN</td>\n",
       "      <td>1.047996</td>\n",
       "    </tr>\n",
       "    <tr>\n",
       "      <td>1</td>\n",
       "      <td>1</td>\n",
       "      <td>38255</td>\n",
       "      <td>3.620000e-07</td>\n",
       "      <td>6.100000e-10</td>\n",
       "      <td>-7.931794</td>\n",
       "      <td>12.614162</td>\n",
       "      <td>-1.020808</td>\n",
       "      <td>TPM1</td>\n",
       "      <td>NaN</td>\n",
       "      <td>1.020808</td>\n",
       "    </tr>\n",
       "  </tbody>\n",
       "</table>\n",
       "</div>"
      ],
      "text/plain": [
       "   Unnamed: 0     ID     adj.P.Val       P.Value         t          B  \\\n",
       "0           0   7768  2.740000e-07  2.900000e-10 -8.160224  13.325090   \n",
       "1           1  38255  3.620000e-07  6.100000e-10 -7.931794  12.614162   \n",
       "\n",
       "      logFC GeneName  SPOT_ID  absolute_logFC  \n",
       "0 -1.047996   LHFPL2      NaN        1.047996  \n",
       "1 -1.020808     TPM1      NaN        1.020808  "
      ]
     },
     "execution_count": 3,
     "metadata": {},
     "output_type": "execute_result"
    }
   ],
   "source": [
    "df_PAH_down.head(2)"
   ]
  },
  {
   "cell_type": "code",
   "execution_count": 4,
   "metadata": {},
   "outputs": [
    {
     "data": {
      "text/plain": [
       "(217, 10)"
      ]
     },
     "execution_count": 4,
     "metadata": {},
     "output_type": "execute_result"
    }
   ],
   "source": [
    "df_PAH_down.shape"
   ]
  },
  {
   "cell_type": "code",
   "execution_count": 5,
   "metadata": {},
   "outputs": [],
   "source": [
    "df_PAH_up = pd.read_excel('pulmonaryHypertensionDEG_Pvalue.xlsx',sheet_name='upRegulated')"
   ]
  },
  {
   "cell_type": "code",
   "execution_count": 6,
   "metadata": {},
   "outputs": [
    {
     "data": {
      "text/html": [
       "<div>\n",
       "<style scoped>\n",
       "    .dataframe tbody tr th:only-of-type {\n",
       "        vertical-align: middle;\n",
       "    }\n",
       "\n",
       "    .dataframe tbody tr th {\n",
       "        vertical-align: top;\n",
       "    }\n",
       "\n",
       "    .dataframe thead th {\n",
       "        text-align: right;\n",
       "    }\n",
       "</style>\n",
       "<table border=\"1\" class=\"dataframe\">\n",
       "  <thead>\n",
       "    <tr style=\"text-align: right;\">\n",
       "      <th></th>\n",
       "      <th>Unnamed: 0</th>\n",
       "      <th>ID</th>\n",
       "      <th>adj.P.Val</th>\n",
       "      <th>P.Value</th>\n",
       "      <th>t</th>\n",
       "      <th>B</th>\n",
       "      <th>logFC</th>\n",
       "      <th>GeneName</th>\n",
       "      <th>SPOT_ID</th>\n",
       "      <th>absolute_logFC</th>\n",
       "    </tr>\n",
       "  </thead>\n",
       "  <tbody>\n",
       "    <tr>\n",
       "      <td>0</td>\n",
       "      <td>0</td>\n",
       "      <td>5599</td>\n",
       "      <td>2.740000e-07</td>\n",
       "      <td>2.630000e-10</td>\n",
       "      <td>8.190054</td>\n",
       "      <td>13.417526</td>\n",
       "      <td>1.047097</td>\n",
       "      <td>PLEKHA1</td>\n",
       "      <td>NaN</td>\n",
       "      <td>1.047097</td>\n",
       "    </tr>\n",
       "    <tr>\n",
       "      <td>1</td>\n",
       "      <td>1</td>\n",
       "      <td>17108</td>\n",
       "      <td>5.830000e-07</td>\n",
       "      <td>1.140000e-09</td>\n",
       "      <td>7.740180</td>\n",
       "      <td>12.013847</td>\n",
       "      <td>1.009458</td>\n",
       "      <td>ECHDC2</td>\n",
       "      <td>NaN</td>\n",
       "      <td>1.009458</td>\n",
       "    </tr>\n",
       "  </tbody>\n",
       "</table>\n",
       "</div>"
      ],
      "text/plain": [
       "   Unnamed: 0     ID     adj.P.Val       P.Value         t          B  \\\n",
       "0           0   5599  2.740000e-07  2.630000e-10  8.190054  13.417526   \n",
       "1           1  17108  5.830000e-07  1.140000e-09  7.740180  12.013847   \n",
       "\n",
       "      logFC GeneName  SPOT_ID  absolute_logFC  \n",
       "0  1.047097  PLEKHA1      NaN        1.047097  \n",
       "1  1.009458   ECHDC2      NaN        1.009458  "
      ]
     },
     "execution_count": 6,
     "metadata": {},
     "output_type": "execute_result"
    }
   ],
   "source": [
    "df_PAH_up.head(2)"
   ]
  },
  {
   "cell_type": "code",
   "execution_count": 7,
   "metadata": {},
   "outputs": [
    {
     "data": {
      "text/plain": [
       "(33, 10)"
      ]
     },
     "execution_count": 7,
     "metadata": {},
     "output_type": "execute_result"
    }
   ],
   "source": [
    "df_PAH_up.shape"
   ]
  },
  {
   "cell_type": "code",
   "execution_count": 8,
   "metadata": {},
   "outputs": [],
   "source": [
    "df_covid_down = pd.read_excel('covidDEGs.xlsx',sheet_name='downRegulated')"
   ]
  },
  {
   "cell_type": "code",
   "execution_count": 9,
   "metadata": {},
   "outputs": [
    {
     "data": {
      "text/html": [
       "<div>\n",
       "<style scoped>\n",
       "    .dataframe tbody tr th:only-of-type {\n",
       "        vertical-align: middle;\n",
       "    }\n",
       "\n",
       "    .dataframe tbody tr th {\n",
       "        vertical-align: top;\n",
       "    }\n",
       "\n",
       "    .dataframe thead th {\n",
       "        text-align: right;\n",
       "    }\n",
       "</style>\n",
       "<table border=\"1\" class=\"dataframe\">\n",
       "  <thead>\n",
       "    <tr style=\"text-align: right;\">\n",
       "      <th></th>\n",
       "      <th>Unnamed: 0</th>\n",
       "      <th>index</th>\n",
       "      <th>Gid</th>\n",
       "      <th>GENE_SYMBOL</th>\n",
       "      <th>CPM-N1</th>\n",
       "      <th>CPM-N2</th>\n",
       "      <th>CPM-N3</th>\n",
       "      <th>CPM-P1</th>\n",
       "      <th>CPM-P2</th>\n",
       "      <th>CPM-P3</th>\n",
       "      <th>baseMean</th>\n",
       "      <th>log2FoldChange</th>\n",
       "      <th>abslFC</th>\n",
       "      <th>lfcSE</th>\n",
       "      <th>stat</th>\n",
       "      <th>pvalue</th>\n",
       "      <th>padj</th>\n",
       "      <th>log10P</th>\n",
       "      <th>Tag</th>\n",
       "    </tr>\n",
       "  </thead>\n",
       "  <tbody>\n",
       "    <tr>\n",
       "      <td>0</td>\n",
       "      <td>0</td>\n",
       "      <td>0</td>\n",
       "      <td>ENSG00000134184.13</td>\n",
       "      <td>GSTM1</td>\n",
       "      <td>7.34</td>\n",
       "      <td>4.62</td>\n",
       "      <td>6.22</td>\n",
       "      <td>0.07</td>\n",
       "      <td>0.21</td>\n",
       "      <td>0.21</td>\n",
       "      <td>290.84</td>\n",
       "      <td>-5.01</td>\n",
       "      <td>5.01</td>\n",
       "      <td>0.36</td>\n",
       "      <td>-13.82</td>\n",
       "      <td>1.920000e-43</td>\n",
       "      <td>5.440000e-39</td>\n",
       "      <td>38.264401</td>\n",
       "      <td>Down</td>\n",
       "    </tr>\n",
       "    <tr>\n",
       "      <td>1</td>\n",
       "      <td>1</td>\n",
       "      <td>2</td>\n",
       "      <td>ENSG00000233392.5</td>\n",
       "      <td>AC104809</td>\n",
       "      <td>13.87</td>\n",
       "      <td>5.25</td>\n",
       "      <td>11.97</td>\n",
       "      <td>0.02</td>\n",
       "      <td>0.26</td>\n",
       "      <td>0.09</td>\n",
       "      <td>462.90</td>\n",
       "      <td>-6.13</td>\n",
       "      <td>6.13</td>\n",
       "      <td>0.60</td>\n",
       "      <td>-10.27</td>\n",
       "      <td>9.900000e-25</td>\n",
       "      <td>9.360000e-21</td>\n",
       "      <td>20.028724</td>\n",
       "      <td>Down</td>\n",
       "    </tr>\n",
       "  </tbody>\n",
       "</table>\n",
       "</div>"
      ],
      "text/plain": [
       "   Unnamed: 0  index                 Gid GENE_SYMBOL  CPM-N1  CPM-N2  CPM-N3  \\\n",
       "0           0      0  ENSG00000134184.13       GSTM1    7.34    4.62    6.22   \n",
       "1           1      2   ENSG00000233392.5    AC104809   13.87    5.25   11.97   \n",
       "\n",
       "   CPM-P1  CPM-P2  CPM-P3  baseMean  log2FoldChange  abslFC  lfcSE   stat  \\\n",
       "0    0.07    0.21    0.21    290.84           -5.01    5.01   0.36 -13.82   \n",
       "1    0.02    0.26    0.09    462.90           -6.13    6.13   0.60 -10.27   \n",
       "\n",
       "         pvalue          padj     log10P   Tag  \n",
       "0  1.920000e-43  5.440000e-39  38.264401  Down  \n",
       "1  9.900000e-25  9.360000e-21  20.028724  Down  "
      ]
     },
     "execution_count": 9,
     "metadata": {},
     "output_type": "execute_result"
    }
   ],
   "source": [
    "df_covid_down.head(2)"
   ]
  },
  {
   "cell_type": "code",
   "execution_count": 10,
   "metadata": {},
   "outputs": [
    {
     "data": {
      "text/plain": [
       "(599, 19)"
      ]
     },
     "execution_count": 10,
     "metadata": {},
     "output_type": "execute_result"
    }
   ],
   "source": [
    "df_covid_down.shape"
   ]
  },
  {
   "cell_type": "code",
   "execution_count": 11,
   "metadata": {},
   "outputs": [],
   "source": [
    "df_covid_up = pd.read_excel('covidDEGs.xlsx',sheet_name='upRegulated')"
   ]
  },
  {
   "cell_type": "code",
   "execution_count": 12,
   "metadata": {},
   "outputs": [
    {
     "data": {
      "text/html": [
       "<div>\n",
       "<style scoped>\n",
       "    .dataframe tbody tr th:only-of-type {\n",
       "        vertical-align: middle;\n",
       "    }\n",
       "\n",
       "    .dataframe tbody tr th {\n",
       "        vertical-align: top;\n",
       "    }\n",
       "\n",
       "    .dataframe thead th {\n",
       "        text-align: right;\n",
       "    }\n",
       "</style>\n",
       "<table border=\"1\" class=\"dataframe\">\n",
       "  <thead>\n",
       "    <tr style=\"text-align: right;\">\n",
       "      <th></th>\n",
       "      <th>Unnamed: 0</th>\n",
       "      <th>index</th>\n",
       "      <th>Gid</th>\n",
       "      <th>GENE_SYMBOL</th>\n",
       "      <th>CPM-N1</th>\n",
       "      <th>CPM-N2</th>\n",
       "      <th>CPM-N3</th>\n",
       "      <th>CPM-P1</th>\n",
       "      <th>CPM-P2</th>\n",
       "      <th>CPM-P3</th>\n",
       "      <th>baseMean</th>\n",
       "      <th>log2FoldChange</th>\n",
       "      <th>abslFC</th>\n",
       "      <th>lfcSE</th>\n",
       "      <th>stat</th>\n",
       "      <th>pvalue</th>\n",
       "      <th>padj</th>\n",
       "      <th>log10P</th>\n",
       "      <th>Tag</th>\n",
       "    </tr>\n",
       "  </thead>\n",
       "  <tbody>\n",
       "    <tr>\n",
       "      <td>0</td>\n",
       "      <td>0</td>\n",
       "      <td>1</td>\n",
       "      <td>ENSG00000211934.3</td>\n",
       "      <td>IGHV1</td>\n",
       "      <td>0.46</td>\n",
       "      <td>0.25</td>\n",
       "      <td>0.36</td>\n",
       "      <td>5.14</td>\n",
       "      <td>20.56</td>\n",
       "      <td>63.93</td>\n",
       "      <td>1361.64</td>\n",
       "      <td>6.36</td>\n",
       "      <td>6.36</td>\n",
       "      <td>0.60</td>\n",
       "      <td>10.51</td>\n",
       "      <td>7.580000e-26</td>\n",
       "      <td>1.070000e-21</td>\n",
       "      <td>20.970616</td>\n",
       "      <td>Up</td>\n",
       "    </tr>\n",
       "    <tr>\n",
       "      <td>1</td>\n",
       "      <td>1</td>\n",
       "      <td>3</td>\n",
       "      <td>ENSG00000198848.12</td>\n",
       "      <td>CES1</td>\n",
       "      <td>3.84</td>\n",
       "      <td>0.83</td>\n",
       "      <td>4.96</td>\n",
       "      <td>185.00</td>\n",
       "      <td>76.06</td>\n",
       "      <td>398.24</td>\n",
       "      <td>12508.37</td>\n",
       "      <td>6.53</td>\n",
       "      <td>6.53</td>\n",
       "      <td>0.65</td>\n",
       "      <td>10.12</td>\n",
       "      <td>4.690000e-24</td>\n",
       "      <td>3.330000e-20</td>\n",
       "      <td>19.477556</td>\n",
       "      <td>Up</td>\n",
       "    </tr>\n",
       "  </tbody>\n",
       "</table>\n",
       "</div>"
      ],
      "text/plain": [
       "   Unnamed: 0  index                 Gid GENE_SYMBOL  CPM-N1  CPM-N2  CPM-N3  \\\n",
       "0           0      1   ENSG00000211934.3       IGHV1    0.46    0.25    0.36   \n",
       "1           1      3  ENSG00000198848.12        CES1    3.84    0.83    4.96   \n",
       "\n",
       "   CPM-P1  CPM-P2  CPM-P3  baseMean  log2FoldChange  abslFC  lfcSE   stat  \\\n",
       "0    5.14   20.56   63.93   1361.64            6.36    6.36   0.60  10.51   \n",
       "1  185.00   76.06  398.24  12508.37            6.53    6.53   0.65  10.12   \n",
       "\n",
       "         pvalue          padj     log10P Tag  \n",
       "0  7.580000e-26  1.070000e-21  20.970616  Up  \n",
       "1  4.690000e-24  3.330000e-20  19.477556  Up  "
      ]
     },
     "execution_count": 12,
     "metadata": {},
     "output_type": "execute_result"
    }
   ],
   "source": [
    "df_covid_up.head(2)"
   ]
  },
  {
   "cell_type": "code",
   "execution_count": 13,
   "metadata": {},
   "outputs": [
    {
     "data": {
      "text/plain": [
       "(1146, 19)"
      ]
     },
     "execution_count": 13,
     "metadata": {},
     "output_type": "execute_result"
    }
   ],
   "source": [
    "df_covid_up.shape"
   ]
  },
  {
   "cell_type": "code",
   "execution_count": 14,
   "metadata": {},
   "outputs": [],
   "source": [
    "df_PAH_covid_down = pd.merge(df_PAH_down,df_covid_down,how='inner',left_on='GeneName',right_on='GENE_SYMBOL')"
   ]
  },
  {
   "cell_type": "code",
   "execution_count": 15,
   "metadata": {},
   "outputs": [],
   "source": [
    "df_PAH_covid_up = pd.merge(df_PAH_up,df_covid_up,how='inner',left_on='GeneName',right_on='GENE_SYMBOL')"
   ]
  },
  {
   "cell_type": "code",
   "execution_count": 16,
   "metadata": {},
   "outputs": [
    {
     "data": {
      "text/html": [
       "<div>\n",
       "<style scoped>\n",
       "    .dataframe tbody tr th:only-of-type {\n",
       "        vertical-align: middle;\n",
       "    }\n",
       "\n",
       "    .dataframe tbody tr th {\n",
       "        vertical-align: top;\n",
       "    }\n",
       "\n",
       "    .dataframe thead th {\n",
       "        text-align: right;\n",
       "    }\n",
       "</style>\n",
       "<table border=\"1\" class=\"dataframe\">\n",
       "  <thead>\n",
       "    <tr style=\"text-align: right;\">\n",
       "      <th></th>\n",
       "      <th>Unnamed: 0_x</th>\n",
       "      <th>ID</th>\n",
       "      <th>adj.P.Val</th>\n",
       "      <th>P.Value</th>\n",
       "      <th>t</th>\n",
       "      <th>B</th>\n",
       "      <th>logFC</th>\n",
       "      <th>GeneName</th>\n",
       "      <th>SPOT_ID</th>\n",
       "      <th>absolute_logFC</th>\n",
       "      <th>...</th>\n",
       "      <th>CPM-P3</th>\n",
       "      <th>baseMean</th>\n",
       "      <th>log2FoldChange</th>\n",
       "      <th>abslFC</th>\n",
       "      <th>lfcSE</th>\n",
       "      <th>stat</th>\n",
       "      <th>pvalue</th>\n",
       "      <th>padj</th>\n",
       "      <th>log10P</th>\n",
       "      <th>Tag</th>\n",
       "    </tr>\n",
       "  </thead>\n",
       "  <tbody>\n",
       "    <tr>\n",
       "      <td>0</td>\n",
       "      <td>213</td>\n",
       "      <td>38638</td>\n",
       "      <td>0.0412</td>\n",
       "      <td>0.017</td>\n",
       "      <td>-2.484247</td>\n",
       "      <td>-3.647935</td>\n",
       "      <td>-1.188567</td>\n",
       "      <td>LTF</td>\n",
       "      <td>NaN</td>\n",
       "      <td>1.188567</td>\n",
       "      <td>...</td>\n",
       "      <td>17.82</td>\n",
       "      <td>1698.3</td>\n",
       "      <td>-1.88</td>\n",
       "      <td>1.88</td>\n",
       "      <td>0.66</td>\n",
       "      <td>-2.86</td>\n",
       "      <td>0.00429</td>\n",
       "      <td>0.0438</td>\n",
       "      <td>1.358526</td>\n",
       "      <td>NC</td>\n",
       "    </tr>\n",
       "  </tbody>\n",
       "</table>\n",
       "<p>1 rows × 29 columns</p>\n",
       "</div>"
      ],
      "text/plain": [
       "   Unnamed: 0_x     ID  adj.P.Val  P.Value         t         B     logFC  \\\n",
       "0           213  38638     0.0412    0.017 -2.484247 -3.647935 -1.188567   \n",
       "\n",
       "  GeneName  SPOT_ID  absolute_logFC  ...  CPM-P3  baseMean log2FoldChange  \\\n",
       "0      LTF      NaN        1.188567  ...   17.82    1698.3          -1.88   \n",
       "\n",
       "  abslFC  lfcSE  stat   pvalue    padj    log10P  Tag  \n",
       "0   1.88   0.66 -2.86  0.00429  0.0438  1.358526   NC  \n",
       "\n",
       "[1 rows x 29 columns]"
      ]
     },
     "execution_count": 16,
     "metadata": {},
     "output_type": "execute_result"
    }
   ],
   "source": [
    "df_PAH_covid_down"
   ]
  },
  {
   "cell_type": "code",
   "execution_count": 17,
   "metadata": {},
   "outputs": [
    {
     "data": {
      "text/html": [
       "<div>\n",
       "<style scoped>\n",
       "    .dataframe tbody tr th:only-of-type {\n",
       "        vertical-align: middle;\n",
       "    }\n",
       "\n",
       "    .dataframe tbody tr th {\n",
       "        vertical-align: top;\n",
       "    }\n",
       "\n",
       "    .dataframe thead th {\n",
       "        text-align: right;\n",
       "    }\n",
       "</style>\n",
       "<table border=\"1\" class=\"dataframe\">\n",
       "  <thead>\n",
       "    <tr style=\"text-align: right;\">\n",
       "      <th></th>\n",
       "      <th>GeneName</th>\n",
       "      <th>GENE_SYMBOL</th>\n",
       "    </tr>\n",
       "  </thead>\n",
       "  <tbody>\n",
       "    <tr>\n",
       "      <td>0</td>\n",
       "      <td>LTF</td>\n",
       "      <td>LTF</td>\n",
       "    </tr>\n",
       "  </tbody>\n",
       "</table>\n",
       "</div>"
      ],
      "text/plain": [
       "  GeneName GENE_SYMBOL\n",
       "0      LTF         LTF"
      ]
     },
     "execution_count": 17,
     "metadata": {},
     "output_type": "execute_result"
    }
   ],
   "source": [
    "df_PAH_covid_down[['GeneName','GENE_SYMBOL']]"
   ]
  },
  {
   "cell_type": "code",
   "execution_count": 18,
   "metadata": {},
   "outputs": [
    {
     "data": {
      "text/plain": [
       "1"
      ]
     },
     "execution_count": 18,
     "metadata": {},
     "output_type": "execute_result"
    }
   ],
   "source": [
    "df_PAH_covid_down['GeneName'].nunique()"
   ]
  },
  {
   "cell_type": "code",
   "execution_count": 19,
   "metadata": {},
   "outputs": [
    {
     "data": {
      "text/plain": [
       "array(['LTF'], dtype=object)"
      ]
     },
     "execution_count": 19,
     "metadata": {},
     "output_type": "execute_result"
    }
   ],
   "source": [
    "df_PAH_covid_down['GeneName'].unique()"
   ]
  },
  {
   "cell_type": "code",
   "execution_count": 20,
   "metadata": {},
   "outputs": [
    {
     "data": {
      "text/html": [
       "<div>\n",
       "<style scoped>\n",
       "    .dataframe tbody tr th:only-of-type {\n",
       "        vertical-align: middle;\n",
       "    }\n",
       "\n",
       "    .dataframe tbody tr th {\n",
       "        vertical-align: top;\n",
       "    }\n",
       "\n",
       "    .dataframe thead th {\n",
       "        text-align: right;\n",
       "    }\n",
       "</style>\n",
       "<table border=\"1\" class=\"dataframe\">\n",
       "  <thead>\n",
       "    <tr style=\"text-align: right;\">\n",
       "      <th></th>\n",
       "      <th>Unnamed: 0_x</th>\n",
       "      <th>ID</th>\n",
       "      <th>adj.P.Val</th>\n",
       "      <th>P.Value</th>\n",
       "      <th>t</th>\n",
       "      <th>B</th>\n",
       "      <th>logFC</th>\n",
       "      <th>GeneName</th>\n",
       "      <th>SPOT_ID</th>\n",
       "      <th>absolute_logFC</th>\n",
       "      <th>...</th>\n",
       "      <th>CPM-P3</th>\n",
       "      <th>baseMean</th>\n",
       "      <th>log2FoldChange</th>\n",
       "      <th>abslFC</th>\n",
       "      <th>lfcSE</th>\n",
       "      <th>stat</th>\n",
       "      <th>pvalue</th>\n",
       "      <th>padj</th>\n",
       "      <th>log10P</th>\n",
       "      <th>Tag</th>\n",
       "    </tr>\n",
       "  </thead>\n",
       "  <tbody>\n",
       "    <tr>\n",
       "      <td>0</td>\n",
       "      <td>28</td>\n",
       "      <td>47294</td>\n",
       "      <td>0.000168</td>\n",
       "      <td>0.00001</td>\n",
       "      <td>4.995212</td>\n",
       "      <td>3.263997</td>\n",
       "      <td>1.121115</td>\n",
       "      <td>FCRL5</td>\n",
       "      <td>NaN</td>\n",
       "      <td>1.121115</td>\n",
       "      <td>...</td>\n",
       "      <td>58.11</td>\n",
       "      <td>1965.94</td>\n",
       "      <td>2.28</td>\n",
       "      <td>2.28</td>\n",
       "      <td>0.5</td>\n",
       "      <td>4.55</td>\n",
       "      <td>0.000005</td>\n",
       "      <td>0.000296</td>\n",
       "      <td>3.528708</td>\n",
       "      <td>Up</td>\n",
       "    </tr>\n",
       "  </tbody>\n",
       "</table>\n",
       "<p>1 rows × 29 columns</p>\n",
       "</div>"
      ],
      "text/plain": [
       "   Unnamed: 0_x     ID  adj.P.Val  P.Value         t         B     logFC  \\\n",
       "0            28  47294   0.000168  0.00001  4.995212  3.263997  1.121115   \n",
       "\n",
       "  GeneName  SPOT_ID  absolute_logFC  ...  CPM-P3  baseMean log2FoldChange  \\\n",
       "0    FCRL5      NaN        1.121115  ...   58.11   1965.94           2.28   \n",
       "\n",
       "  abslFC  lfcSE  stat    pvalue      padj    log10P  Tag  \n",
       "0   2.28    0.5  4.55  0.000005  0.000296  3.528708   Up  \n",
       "\n",
       "[1 rows x 29 columns]"
      ]
     },
     "execution_count": 20,
     "metadata": {},
     "output_type": "execute_result"
    }
   ],
   "source": [
    "df_PAH_covid_up"
   ]
  },
  {
   "cell_type": "code",
   "execution_count": 21,
   "metadata": {},
   "outputs": [
    {
     "data": {
      "text/html": [
       "<div>\n",
       "<style scoped>\n",
       "    .dataframe tbody tr th:only-of-type {\n",
       "        vertical-align: middle;\n",
       "    }\n",
       "\n",
       "    .dataframe tbody tr th {\n",
       "        vertical-align: top;\n",
       "    }\n",
       "\n",
       "    .dataframe thead th {\n",
       "        text-align: right;\n",
       "    }\n",
       "</style>\n",
       "<table border=\"1\" class=\"dataframe\">\n",
       "  <thead>\n",
       "    <tr style=\"text-align: right;\">\n",
       "      <th></th>\n",
       "      <th>GeneName</th>\n",
       "      <th>GENE_SYMBOL</th>\n",
       "    </tr>\n",
       "  </thead>\n",
       "  <tbody>\n",
       "    <tr>\n",
       "      <td>0</td>\n",
       "      <td>FCRL5</td>\n",
       "      <td>FCRL5</td>\n",
       "    </tr>\n",
       "  </tbody>\n",
       "</table>\n",
       "</div>"
      ],
      "text/plain": [
       "  GeneName GENE_SYMBOL\n",
       "0    FCRL5       FCRL5"
      ]
     },
     "execution_count": 21,
     "metadata": {},
     "output_type": "execute_result"
    }
   ],
   "source": [
    "df_PAH_covid_up[['GeneName','GENE_SYMBOL']]"
   ]
  },
  {
   "cell_type": "code",
   "execution_count": 22,
   "metadata": {},
   "outputs": [
    {
     "data": {
      "text/plain": [
       "1"
      ]
     },
     "execution_count": 22,
     "metadata": {},
     "output_type": "execute_result"
    }
   ],
   "source": [
    "df_PAH_covid_up['GeneName'].nunique()"
   ]
  },
  {
   "cell_type": "code",
   "execution_count": 23,
   "metadata": {},
   "outputs": [
    {
     "data": {
      "text/plain": [
       "array(['FCRL5'], dtype=object)"
      ]
     },
     "execution_count": 23,
     "metadata": {},
     "output_type": "execute_result"
    }
   ],
   "source": [
    "df_PAH_covid_up['GeneName'].unique()"
   ]
  },
  {
   "cell_type": "code",
   "execution_count": 24,
   "metadata": {},
   "outputs": [],
   "source": [
    "df_output_down = df_PAH_covid_down['GENE_SYMBOL']"
   ]
  },
  {
   "cell_type": "code",
   "execution_count": 25,
   "metadata": {},
   "outputs": [],
   "source": [
    "df_output_up = df_PAH_covid_up['GENE_SYMBOL']"
   ]
  },
  {
   "cell_type": "code",
   "execution_count": 32,
   "metadata": {},
   "outputs": [
    {
     "data": {
      "text/html": [
       "<div>\n",
       "<style scoped>\n",
       "    .dataframe tbody tr th:only-of-type {\n",
       "        vertical-align: middle;\n",
       "    }\n",
       "\n",
       "    .dataframe tbody tr th {\n",
       "        vertical-align: top;\n",
       "    }\n",
       "\n",
       "    .dataframe thead th {\n",
       "        text-align: right;\n",
       "    }\n",
       "</style>\n",
       "<table border=\"1\" class=\"dataframe\">\n",
       "  <thead>\n",
       "    <tr style=\"text-align: right;\">\n",
       "      <th></th>\n",
       "      <th>Unnamed: 0_x</th>\n",
       "      <th>ID</th>\n",
       "      <th>adj.P.Val</th>\n",
       "      <th>P.Value</th>\n",
       "      <th>t</th>\n",
       "      <th>B</th>\n",
       "      <th>logFC</th>\n",
       "      <th>GeneName</th>\n",
       "      <th>SPOT_ID</th>\n",
       "      <th>absolute_logFC</th>\n",
       "      <th>...</th>\n",
       "      <th>CPM-P3</th>\n",
       "      <th>baseMean</th>\n",
       "      <th>log2FoldChange</th>\n",
       "      <th>abslFC</th>\n",
       "      <th>lfcSE</th>\n",
       "      <th>stat</th>\n",
       "      <th>pvalue</th>\n",
       "      <th>padj</th>\n",
       "      <th>log10P</th>\n",
       "      <th>Tag</th>\n",
       "    </tr>\n",
       "  </thead>\n",
       "  <tbody>\n",
       "    <tr>\n",
       "      <td>0</td>\n",
       "      <td>213</td>\n",
       "      <td>38638</td>\n",
       "      <td>0.041200</td>\n",
       "      <td>0.01700</td>\n",
       "      <td>-2.484247</td>\n",
       "      <td>-3.647935</td>\n",
       "      <td>-1.188567</td>\n",
       "      <td>LTF</td>\n",
       "      <td>NaN</td>\n",
       "      <td>1.188567</td>\n",
       "      <td>...</td>\n",
       "      <td>17.82</td>\n",
       "      <td>1698.30</td>\n",
       "      <td>-1.88</td>\n",
       "      <td>1.88</td>\n",
       "      <td>0.66</td>\n",
       "      <td>-2.86</td>\n",
       "      <td>0.004290</td>\n",
       "      <td>0.043800</td>\n",
       "      <td>1.358526</td>\n",
       "      <td>NC</td>\n",
       "    </tr>\n",
       "    <tr>\n",
       "      <td>1</td>\n",
       "      <td>28</td>\n",
       "      <td>47294</td>\n",
       "      <td>0.000168</td>\n",
       "      <td>0.00001</td>\n",
       "      <td>4.995212</td>\n",
       "      <td>3.263997</td>\n",
       "      <td>1.121115</td>\n",
       "      <td>FCRL5</td>\n",
       "      <td>NaN</td>\n",
       "      <td>1.121115</td>\n",
       "      <td>...</td>\n",
       "      <td>58.11</td>\n",
       "      <td>1965.94</td>\n",
       "      <td>2.28</td>\n",
       "      <td>2.28</td>\n",
       "      <td>0.50</td>\n",
       "      <td>4.55</td>\n",
       "      <td>0.000005</td>\n",
       "      <td>0.000296</td>\n",
       "      <td>3.528708</td>\n",
       "      <td>Up</td>\n",
       "    </tr>\n",
       "  </tbody>\n",
       "</table>\n",
       "<p>2 rows × 29 columns</p>\n",
       "</div>"
      ],
      "text/plain": [
       "   Unnamed: 0_x     ID  adj.P.Val  P.Value         t         B     logFC  \\\n",
       "0           213  38638   0.041200  0.01700 -2.484247 -3.647935 -1.188567   \n",
       "1            28  47294   0.000168  0.00001  4.995212  3.263997  1.121115   \n",
       "\n",
       "  GeneName  SPOT_ID  absolute_logFC  ...  CPM-P3  baseMean log2FoldChange  \\\n",
       "0      LTF      NaN        1.188567  ...   17.82   1698.30          -1.88   \n",
       "1    FCRL5      NaN        1.121115  ...   58.11   1965.94           2.28   \n",
       "\n",
       "  abslFC  lfcSE  stat    pvalue      padj    log10P  Tag  \n",
       "0   1.88   0.66 -2.86  0.004290  0.043800  1.358526   NC  \n",
       "1   2.28   0.50  4.55  0.000005  0.000296  3.528708   Up  \n",
       "\n",
       "[2 rows x 29 columns]"
      ]
     },
     "execution_count": 32,
     "metadata": {},
     "output_type": "execute_result"
    }
   ],
   "source": [
    "df_output_all = pd.merge(df_PAH_covid_down,df_PAH_covid_up,how='outer')\n",
    "df_output_all"
   ]
  },
  {
   "cell_type": "code",
   "execution_count": 42,
   "metadata": {},
   "outputs": [],
   "source": [
    "df_all = df_output_all[['P.Value','logFC','GeneName']]"
   ]
  },
  {
   "cell_type": "code",
   "execution_count": 34,
   "metadata": {},
   "outputs": [
    {
     "data": {
      "text/html": [
       "<div>\n",
       "<style scoped>\n",
       "    .dataframe tbody tr th:only-of-type {\n",
       "        vertical-align: middle;\n",
       "    }\n",
       "\n",
       "    .dataframe tbody tr th {\n",
       "        vertical-align: top;\n",
       "    }\n",
       "\n",
       "    .dataframe thead th {\n",
       "        text-align: right;\n",
       "    }\n",
       "</style>\n",
       "<table border=\"1\" class=\"dataframe\">\n",
       "  <thead>\n",
       "    <tr style=\"text-align: right;\">\n",
       "      <th></th>\n",
       "      <th>logFC</th>\n",
       "      <th>GeneName</th>\n",
       "    </tr>\n",
       "  </thead>\n",
       "  <tbody>\n",
       "    <tr>\n",
       "      <td>0</td>\n",
       "      <td>-1.188567</td>\n",
       "      <td>LTF</td>\n",
       "    </tr>\n",
       "    <tr>\n",
       "      <td>1</td>\n",
       "      <td>1.121115</td>\n",
       "      <td>FCRL5</td>\n",
       "    </tr>\n",
       "  </tbody>\n",
       "</table>\n",
       "</div>"
      ],
      "text/plain": [
       "      logFC GeneName\n",
       "0 -1.188567      LTF\n",
       "1  1.121115    FCRL5"
      ]
     },
     "execution_count": 34,
     "metadata": {},
     "output_type": "execute_result"
    }
   ],
   "source": [
    "#df_output_all[['logFC','GeneName']]"
   ]
  },
  {
   "cell_type": "code",
   "execution_count": 36,
   "metadata": {},
   "outputs": [],
   "source": [
    "writer = pd.ExcelWriter('covidPAH_commonDEGs_Pvalue.xlsx',engine='xlsxwriter')"
   ]
  },
  {
   "cell_type": "code",
   "execution_count": 45,
   "metadata": {},
   "outputs": [],
   "source": [
    "writerPvalLogFC = pd.ExcelWriter('PAH_covid_all.xlsx',engine='xlsxwriter')"
   ]
  },
  {
   "cell_type": "code",
   "execution_count": 38,
   "metadata": {},
   "outputs": [],
   "source": [
    "df_output_down.to_excel(writer,sheet_name='downRegulated')"
   ]
  },
  {
   "cell_type": "code",
   "execution_count": 39,
   "metadata": {},
   "outputs": [],
   "source": [
    "df_output_up.to_excel(writer,sheet_name='upRegulated')"
   ]
  },
  {
   "cell_type": "code",
   "execution_count": 46,
   "metadata": {},
   "outputs": [],
   "source": [
    "df_all.to_excel(writerPvalLogFC)"
   ]
  },
  {
   "cell_type": "code",
   "execution_count": 47,
   "metadata": {},
   "outputs": [],
   "source": [
    "writer.save()\n",
    "writer.close()\n",
    "writerPvalLogFC.save()\n",
    "writerPvalLogFC.close()"
   ]
  }
 ],
 "metadata": {
  "kernelspec": {
   "display_name": "Python 3",
   "language": "python",
   "name": "python3"
  },
  "language_info": {
   "codemirror_mode": {
    "name": "ipython",
    "version": 3
   },
   "file_extension": ".py",
   "mimetype": "text/x-python",
   "name": "python",
   "nbconvert_exporter": "python",
   "pygments_lexer": "ipython3",
   "version": "3.7.4"
  }
 },
 "nbformat": 4,
 "nbformat_minor": 2
}
